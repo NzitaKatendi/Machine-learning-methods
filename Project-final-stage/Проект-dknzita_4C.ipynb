{
 "cells": [
  {
   "cell_type": "markdown",
   "id": "361b1f9d-6e4e-4d9a-983d-6a9cdfa9aac1",
   "metadata": {},
   "source": [
    " #  Feedforward Neural Network (Multilayer Perceptron - MLP) \n",
    " Нейронная сеть с прямолинейным движением (многослойный перцептрон - MLP) "
   ]
  },
  {
   "cell_type": "markdown",
   "id": "8d37a386-5629-4e1f-b766-1b18051eafcd",
   "metadata": {},
   "source": [
    "# Блок 1: Импорт библиотек\n",
    "Этот блок содержит все необходимые импорты библиотек для:\n",
    "\n",
    "- Работы с данными (numpy, pandas)\n",
    "- Машинного обучения (tensorflow, sklearn)\n",
    "- Обработки сигналов (pywt для вейвлет-преобразований)\n",
    "- Визуализации (seaborn, matplotlib)"
   ]
  },
  {
   "cell_type": "code",
   "execution_count": 1,
   "id": "cc9c1fd5-fc43-428c-a677-ccc372c141e1",
   "metadata": {},
   "outputs": [],
   "source": [
    "import numpy as np\n",
    "import pandas as pd\n",
    "import tensorflow as tf\n",
    "from tensorflow.keras.models import Sequential\n",
    "from tensorflow.keras.layers import Dense, Dropout\n",
    "from tensorflow.keras.optimizers import Adam\n",
    "from tensorflow.keras.regularizers import l2\n",
    "from tensorflow.keras.callbacks import EarlyStopping\n",
    "from sklearn.model_selection import train_test_split\n",
    "from sklearn.preprocessing import StandardScaler, LabelEncoder\n",
    "from sklearn.metrics import classification_report, confusion_matrix\n",
    "from sklearn.impute import SimpleImputer\n",
    "from imblearn.over_sampling import SMOTE\n",
    "import pywt\n",
    "import seaborn as sns\n",
    "import matplotlib.pyplot as plt"
   ]
  },
  {
   "cell_type": "markdown",
   "id": "53aec0ef-cd43-4402-b4a5-230350a226b0",
   "metadata": {},
   "source": [
    "# Блок 2: Загрузка данных и первоначальный осмотр"
   ]
  },
  {
   "cell_type": "code",
   "execution_count": 2,
   "id": "e898f75e-961e-4007-ba3e-4dc5f68960eb",
   "metadata": {},
   "outputs": [
    {
     "data": {
      "text/html": [
       "<div>\n",
       "<style scoped>\n",
       "    .dataframe tbody tr th:only-of-type {\n",
       "        vertical-align: middle;\n",
       "    }\n",
       "\n",
       "    .dataframe tbody tr th {\n",
       "        vertical-align: top;\n",
       "    }\n",
       "\n",
       "    .dataframe thead th {\n",
       "        text-align: right;\n",
       "    }\n",
       "</style>\n",
       "<table border=\"1\" class=\"dataframe\">\n",
       "  <thead>\n",
       "    <tr style=\"text-align: right;\">\n",
       "      <th></th>\n",
       "      <th>clean_signal</th>\n",
       "      <th>noise_signal</th>\n",
       "      <th>class</th>\n",
       "      <th>clean_signal_strength</th>\n",
       "      <th>noise_signal_strength</th>\n",
       "      <th>clean_interference_type</th>\n",
       "      <th>noise_interference_type</th>\n",
       "    </tr>\n",
       "  </thead>\n",
       "  <tbody>\n",
       "    <tr>\n",
       "      <th>0</th>\n",
       "      <td>[ 0.53289387  0.48063746  0.42904256  0.378523...</td>\n",
       "      <td>[-0.08768768 -0.06199073 -0.03619172 -0.010593...</td>\n",
       "      <td>0</td>\n",
       "      <td>-28</td>\n",
       "      <td>-7</td>\n",
       "      <td>NaN</td>\n",
       "      <td>NaN</td>\n",
       "    </tr>\n",
       "    <tr>\n",
       "      <th>1</th>\n",
       "      <td>[ 0.50528564  0.46466091  0.42324726  0.381706...</td>\n",
       "      <td>[ 0.14792691  0.13895541  0.13001185  0.121231...</td>\n",
       "      <td>0</td>\n",
       "      <td>-55</td>\n",
       "      <td>-3</td>\n",
       "      <td>NaN</td>\n",
       "      <td>NaN</td>\n",
       "    </tr>\n",
       "    <tr>\n",
       "      <th>2</th>\n",
       "      <td>[-7.18195220e-01 -6.40748815e-01 -5.65319141e-...</td>\n",
       "      <td>[ 0.93549859  0.83830764  0.12244383  0.767919...</td>\n",
       "      <td>1</td>\n",
       "      <td>-8</td>\n",
       "      <td>-22</td>\n",
       "      <td>NaN</td>\n",
       "      <td>Adjacent-channel</td>\n",
       "    </tr>\n",
       "    <tr>\n",
       "      <th>3</th>\n",
       "      <td>[-0.96790673 -0.87108426 -0.77470803 -0.679792...</td>\n",
       "      <td>[ 0.50528564  0.46466091  0.42324726  0.381706...</td>\n",
       "      <td>0</td>\n",
       "      <td>-13</td>\n",
       "      <td>-55</td>\n",
       "      <td>NaN</td>\n",
       "      <td>NaN</td>\n",
       "    </tr>\n",
       "    <tr>\n",
       "      <th>4</th>\n",
       "      <td>[ 0.98972575  0.9192528   0.84971362  0.781599...</td>\n",
       "      <td>[-0.33507636 -0.88348707 -0.47259825 -0.746120...</td>\n",
       "      <td>1</td>\n",
       "      <td>-40</td>\n",
       "      <td>-99</td>\n",
       "      <td>NaN</td>\n",
       "      <td>Intermodulation</td>\n",
       "    </tr>\n",
       "  </tbody>\n",
       "</table>\n",
       "</div>"
      ],
      "text/plain": [
       "                                        clean_signal  \\\n",
       "0  [ 0.53289387  0.48063746  0.42904256  0.378523...   \n",
       "1  [ 0.50528564  0.46466091  0.42324726  0.381706...   \n",
       "2  [-7.18195220e-01 -6.40748815e-01 -5.65319141e-...   \n",
       "3  [-0.96790673 -0.87108426 -0.77470803 -0.679792...   \n",
       "4  [ 0.98972575  0.9192528   0.84971362  0.781599...   \n",
       "\n",
       "                                        noise_signal  class  \\\n",
       "0  [-0.08768768 -0.06199073 -0.03619172 -0.010593...      0   \n",
       "1  [ 0.14792691  0.13895541  0.13001185  0.121231...      0   \n",
       "2  [ 0.93549859  0.83830764  0.12244383  0.767919...      1   \n",
       "3  [ 0.50528564  0.46466091  0.42324726  0.381706...      0   \n",
       "4  [-0.33507636 -0.88348707 -0.47259825 -0.746120...      1   \n",
       "\n",
       "   clean_signal_strength  noise_signal_strength  clean_interference_type  \\\n",
       "0                    -28                     -7                      NaN   \n",
       "1                    -55                     -3                      NaN   \n",
       "2                     -8                    -22                      NaN   \n",
       "3                    -13                    -55                      NaN   \n",
       "4                    -40                    -99                      NaN   \n",
       "\n",
       "  noise_interference_type  \n",
       "0                     NaN  \n",
       "1                     NaN  \n",
       "2        Adjacent-channel  \n",
       "3                     NaN  \n",
       "4         Intermodulation  "
      ]
     },
     "execution_count": 2,
     "metadata": {},
     "output_type": "execute_result"
    }
   ],
   "source": [
    "# 1. Data Loading and Initial Inspection\n",
    "df = pd.read_csv('final_classification_dataset.csv')\n",
    "df.head()"
   ]
  },
  {
   "cell_type": "code",
   "execution_count": 3,
   "id": "c9df456e-d101-4f89-bc5a-241731634ace",
   "metadata": {},
   "outputs": [
    {
     "name": "stdout",
     "output_type": "stream",
     "text": [
      "типы данных каждого столбца:\n"
     ]
    },
    {
     "data": {
      "text/plain": [
       "clean_signal                object\n",
       "noise_signal                object\n",
       "class                        int64\n",
       "clean_signal_strength        int64\n",
       "noise_signal_strength        int64\n",
       "clean_interference_type    float64\n",
       "noise_interference_type     object\n",
       "dtype: object"
      ]
     },
     "execution_count": 3,
     "metadata": {},
     "output_type": "execute_result"
    }
   ],
   "source": [
    "print(\"типы данных каждого столбца:\")\n",
    "df.dtypes"
   ]
  },
  {
   "cell_type": "code",
   "execution_count": 4,
   "id": "b61b89c6-6d5f-425b-94c4-c5ca0f3646bb",
   "metadata": {},
   "outputs": [
    {
     "name": "stdout",
     "output_type": "stream",
     "text": [
      "количество пропущенных значений в каждом столбце:\n"
     ]
    },
    {
     "data": {
      "text/plain": [
       "clean_signal                  0\n",
       "noise_signal                  0\n",
       "class                         0\n",
       "clean_signal_strength         0\n",
       "noise_signal_strength         0\n",
       "clean_interference_type    2856\n",
       "noise_interference_type    1551\n",
       "dtype: int64"
      ]
     },
     "execution_count": 4,
     "metadata": {},
     "output_type": "execute_result"
    }
   ],
   "source": [
    "print(\"количество пропущенных значений в каждом столбце:\")\n",
    "df.isnull().sum()"
   ]
  },
  {
   "cell_type": "markdown",
   "id": "35f19c16-a572-4de4-aeee-4ffcff7a792a",
   "metadata": {},
   "source": [
    "# Блок 3: Предварительная обработка данных\n",
    "-  ненужного столбца 'clean_interference_type'\n",
    "- Преобразование сигналов из строкового формата в numpy массивы\n",
    "- Заполнение пропущенных значений в столбце 'noise_interference_type' наиболее частым значением"
   ]
  },
  {
   "cell_type": "code",
   "execution_count": 5,
   "id": "445db123-c741-4919-bd9b-0fb7c479d728",
   "metadata": {},
   "outputs": [],
   "source": [
    "# 2. Data Preprocessing\n",
    "def preprocess_data(df):\n",
    "    # Remove unnecessary columns\n",
    "    if 'clean_interference_type' in df.columns:\n",
    "        df = df.drop(columns=['clean_interference_type'])\n",
    "    \n",
    "    # Convert signal columns from string to arrays\n",
    "    def convert_to_array(x):\n",
    "        if isinstance(x, str):\n",
    "            return np.fromstring(x.strip('[]'), sep=' ')\n",
    "        return x\n",
    "    \n",
    "    df['clean_signal'] = df['clean_signal'].apply(convert_to_array)\n",
    "    df['noise_signal'] = df['noise_signal'].apply(convert_to_array)\n",
    "    \n",
    "    # Handle missing values in interference type\n",
    "    if df['noise_interference_type'].dtype == 'object':\n",
    "        imputer = SimpleImputer(strategy='most_frequent')\n",
    "        df['noise_interference_type'] = imputer.fit_transform(\n",
    "            df['noise_interference_type'].values.reshape(-1, 1)).ravel()\n",
    "    \n",
    "    return df\n",
    "\n",
    "df = preprocess_data(df)"
   ]
  },
  {
   "cell_type": "markdown",
   "id": "226e44ea-b49d-4aeb-ac83-80d4a9c73b78",
   "metadata": {},
   "source": [
    "# Блок 4: Разведочный анализ данных (EDA)\n",
    "- Типов помех (визуализирует с помощью столбчатой диаграммы)\n",
    "- Целевого класса (бинарная классификация)"
   ]
  },
  {
   "cell_type": "code",
   "execution_count": 6,
   "id": "f4999e24-fb30-4aef-b514-e146fe0e2e64",
   "metadata": {},
   "outputs": [
    {
     "name": "stdout",
     "output_type": "stream",
     "text": [
      "\n",
      "Interference type distribution:\n",
      "noise_interference_type\n",
      "Adjacent-channel    2004\n",
      "Intermodulation      428\n",
      "Co-channel           424\n",
      "Name: count, dtype: int64\n"
     ]
    },
    {
     "data": {
      "image/png": "[encoded data removed]",
      "text/plain": [
       "<Figure size 1000x600 with 1 Axes>"
      ]
     },
     "metadata": {},
     "output_type": "display_data"
    },
    {
     "name": "stdout",
     "output_type": "stream",
     "text": [
      "\n",
      "Class distribution:\n",
      "class\n",
      "0    1428\n",
      "1    1428\n",
      "Name: count, dtype: int64\n"
     ]
    },
    {
     "data": {
      "image/png": "[encoded data removed]",
      "text/plain": [
       "<Figure size 600x400 with 1 Axes>"
      ]
     },
     "metadata": {},
     "output_type": "display_data"
    }
   ],
   "source": [
    "# 3. Exploratory Data Analysis\n",
    "print(\"\\nInterference type distribution:\")\n",
    "print(df['noise_interference_type'].value_counts())\n",
    "\n",
    "plt.figure(figsize=(10, 6))\n",
    "sns.countplot(data=df, x='noise_interference_type')\n",
    "plt.title('Распределение типов помех')\n",
    "plt.xticks(rotation=45)\n",
    "plt.show()\n",
    "\n",
    "print(\"\\nClass distribution:\")\n",
    "print(df['class'].value_counts())\n",
    "\n",
    "plt.figure(figsize=(6, 4))\n",
    "sns.countplot(data=df, x='class')\n",
    "plt.title('Распределение классов')\n",
    "plt.show()"
   ]
  },
  {
   "cell_type": "markdown",
   "id": "e4f3ca23-a4d6-4f01-9119-77404387f0ba",
   "metadata": {},
   "source": [
    "# Блок 5: Извлечение признаков\n",
    "Функция extract_features выполняет:\n",
    "- Приведение сигналов к одинаковой длине\n",
    "- Вейвлет-преобразование сигналов\n",
    "- Кодирование категориальных признаков\n",
    "- Объединение всех признаков в одну матрицу"
   ]
  },
  {
   "cell_type": "code",
   "execution_count": 7,
   "id": "f6522ede-7175-4052-9fb6-fadd24b0b40f",
   "metadata": {},
   "outputs": [
    {
     "name": "stdout",
     "output_type": "stream",
     "text": [
      "\\Празмер матрицы признаков: (2856, 803)\n"
     ]
    }
   ],
   "source": [
    "# 4. Feature Engineering\n",
    "def extract_features(df, max_len=200, wavelet='db1', level=3):\n",
    "    # Flatten signals to consistent length\n",
    "    def flatten_signal(signal, max_len):\n",
    "        return np.array([np.array(x)[:max_len] if len(x) > max_len else \n",
    "                       np.pad(np.array(x), (0, max_len - len(x)), 'constant')\n",
    "                      for x in signal])\n",
    "    \n",
    "    clean_signals = flatten_signal(df['clean_signal'], max_len)\n",
    "    noise_signals = flatten_signal(df['noise_signal'], max_len)\n",
    "    \n",
    "    # Wavelet transform\n",
    "    def wavelet_transform(signal):\n",
    "        coeffs = pywt.wavedec(signal, wavelet, level=level)\n",
    "        return np.hstack([c.flatten() for c in coeffs])\n",
    "    \n",
    "    wavelet_clean = np.array([wavelet_transform(x) for x in clean_signals])\n",
    "    wavelet_noise = np.array([wavelet_transform(x) for x in noise_signals])\n",
    "    \n",
    "    # Encode categorical features\n",
    "    encoder = LabelEncoder()\n",
    "    interference_encoded = encoder.fit_transform(df['noise_interference_type'])\n",
    "    \n",
    "    # Combine all features\n",
    "    features = np.column_stack([\n",
    "        clean_signals,\n",
    "        noise_signals,\n",
    "        wavelet_clean,\n",
    "        wavelet_noise,\n",
    "        interference_encoded.reshape(-1, 1),\n",
    "        df[['clean_signal_strength', 'noise_signal_strength']].values\n",
    "    ])\n",
    "    \n",
    "    return features, df['class'].values, encoder.classes_\n",
    "\n",
    "X, y, interference_classes = extract_features(df)\n",
    "print(\"\\Празмер матрицы признаков:\", X.shape)"
   ]
  },
  {
   "cell_type": "markdown",
   "id": "8e08a950-4a8d-45bc-8689-7d5dee206a6f",
   "metadata": {},
   "source": [
    "# Блок 6: Разделение данных\n",
    "Разделение данных на обучающую и тестовую выборки в соотношении 80/20 с сохранением распределения классов (stratify)."
   ]
  },
  {
   "cell_type": "code",
   "execution_count": 8,
   "id": "52aad9a0-a9f1-4807-8e5a-b449dc3a4885",
   "metadata": {},
   "outputs": [
    {
     "name": "stdout",
     "output_type": "stream",
     "text": [
      "\\Размер обучающей выборки: (2284, 803)\n",
      "Размер тестовой выборки: (572, 803)\n"
     ]
    }
   ],
   "source": [
    "# 5. Data Splitting\n",
    "X_train, X_test, y_train, y_test = train_test_split(\n",
    "    X, y, test_size=0.2, random_state=42, stratify=y)\n",
    "\n",
    "print(\"\\Размер обучающей выборки:\", X_train.shape)\n",
    "print(\"Размер тестовой выборки:\", X_test.shape)"
   ]
  },
  {
   "cell_type": "markdown",
   "id": "4ddd2f5c-763c-446b-b06b-c3a819d8793b",
   "metadata": {},
   "source": [
    "# Блок 7: Балансировка классов\n",
    "Применение SMOTE для устранения дисбаланса классов путем генерации синтетических примеров меньшего класса."
   ]
  },
  {
   "cell_type": "code",
   "execution_count": 9,
   "id": "944bf87a-694e-4cef-9e2f-04395267a88f",
   "metadata": {},
   "outputs": [
    {
     "name": "stdout",
     "output_type": "stream",
     "text": [
      "\n",
      "Распределение по классам после SMOTE:\n",
      "0    1142\n",
      "1    1142\n",
      "Name: count, dtype: int64\n"
     ]
    }
   ],
   "source": [
    "# 6. Handle Class Imbalance with SMOTE\n",
    "smote = SMOTE(random_state=42)\n",
    "X_train_res, y_train_res = smote.fit_resample(X_train, y_train)\n",
    "\n",
    "print(\"\\nРаспределение по классам после SMOTE:\")\n",
    "print(pd.Series(y_train_res).value_counts())"
   ]
  },
  {
   "cell_type": "markdown",
   "id": "179286cd-1899-45ef-9d1a-b0b4496dbaf1",
   "metadata": {},
   "source": [
    "# Блок 8: Масштабирование признаков\n",
    "Стандартизация признаков (приведение к нулевому среднему и единичной дисперсии) с использованием StandardScaler."
   ]
  },
  {
   "cell_type": "code",
   "execution_count": 10,
   "id": "412aadb4-3f75-4a2a-8969-abd110d32863",
   "metadata": {},
   "outputs": [],
   "source": [
    "# 7. Feature Scaling (after train-test split)\n",
    "scaler = StandardScaler()\n",
    "X_train_scaled = scaler.fit_transform(X_train_res)\n",
    "X_test_scaled = scaler.transform(X_test)"
   ]
  },
  {
   "cell_type": "markdown",
   "id": "8fa122e0-f75b-4676-9be1-ec4cbba349de",
   "metadata": {},
   "source": [
    "# Блок 9: Построение модели\n",
    "Создание нейронной сети с:\n",
    "- 3 скрытыми слоями с ReLU активацией\n",
    "- Dropout для регуляризации\n",
    "- L2 регуляризацией весов\n",
    "- Выходным слоем с сигмоидной активацией для бинарной классификации"
   ]
  },
  {
   "cell_type": "code",
   "execution_count": 11,
   "id": "0f7f202d-263c-4f38-827e-71bf8cea1694",
   "metadata": {},
   "outputs": [
    {
     "name": "stdout",
     "output_type": "stream",
     "text": [
      "\n",
      "Aрхитектура модели с количеством параметров:\n"
     ]
    },
    {
     "name": "stderr",
     "output_type": "stream",
     "text": [
      "C:\\Users\\diate\\tf_env\\Lib\\site-packages\\keras\\src\\layers\\core\\dense.py:87: UserWarning: Do not pass an `input_shape`/`input_dim` argument to a layer. When using Sequential models, prefer using an `Input(shape)` object as the first layer in the model instead.\n",
      "  super().__init__(activity_regularizer=activity_regularizer, **kwargs)\n"
     ]
    },
    {
     "data": {
      "text/html": [
       "<pre style=\"white-space:pre;overflow-x:auto;line-height:normal;font-family:Menlo,'DejaVu Sans Mono',consolas,'Courier New',monospace\"><span style=\"font-weight: bold\">Model: \"sequential\"</span>\n",
       "</pre>\n"
      ],
      "text/plain": [
       "\u001b[1mModel: \"sequential\"\u001b[0m\n"
      ]
     },
     "metadata": {},
     "output_type": "display_data"
    },
    {
     "data": {
      "text/html": [
       "<pre style=\"white-space:pre;overflow-x:auto;line-height:normal;font-family:Menlo,'DejaVu Sans Mono',consolas,'Courier New',monospace\">┏━━━━━━━━━━━━━━━━━━━━━━━━━━━━━━━━━━━━━━┳━━━━━━━━━━━━━━━━━━━━━━━━━━━━━┳━━━━━━━━━━━━━━━━━┓\n",
       "┃<span style=\"font-weight: bold\"> Layer (type)                         </span>┃<span style=\"font-weight: bold\"> Output Shape                </span>┃<span style=\"font-weight: bold\">         Param # </span>┃\n",
       "┡━━━━━━━━━━━━━━━━━━━━━━━━━━━━━━━━━━━━━━╇━━━━━━━━━━━━━━━━━━━━━━━━━━━━━╇━━━━━━━━━━━━━━━━━┩\n",
       "│ dense (<span style=\"color: #0087ff; text-decoration-color: #0087ff\">Dense</span>)                        │ (<span style=\"color: #00d7ff; text-decoration-color: #00d7ff\">None</span>, <span style=\"color: #00af00; text-decoration-color: #00af00\">128</span>)                 │         <span style=\"color: #00af00; text-decoration-color: #00af00\">102,912</span> │\n",
       "├──────────────────────────────────────┼─────────────────────────────┼─────────────────┤\n",
       "│ dropout (<span style=\"color: #0087ff; text-decoration-color: #0087ff\">Dropout</span>)                    │ (<span style=\"color: #00d7ff; text-decoration-color: #00d7ff\">None</span>, <span style=\"color: #00af00; text-decoration-color: #00af00\">128</span>)                 │               <span style=\"color: #00af00; text-decoration-color: #00af00\">0</span> │\n",
       "├──────────────────────────────────────┼─────────────────────────────┼─────────────────┤\n",
       "│ dense_1 (<span style=\"color: #0087ff; text-decoration-color: #0087ff\">Dense</span>)                      │ (<span style=\"color: #00d7ff; text-decoration-color: #00d7ff\">None</span>, <span style=\"color: #00af00; text-decoration-color: #00af00\">64</span>)                  │           <span style=\"color: #00af00; text-decoration-color: #00af00\">8,256</span> │\n",
       "├──────────────────────────────────────┼─────────────────────────────┼─────────────────┤\n",
       "│ dropout_1 (<span style=\"color: #0087ff; text-decoration-color: #0087ff\">Dropout</span>)                  │ (<span style=\"color: #00d7ff; text-decoration-color: #00d7ff\">None</span>, <span style=\"color: #00af00; text-decoration-color: #00af00\">64</span>)                  │               <span style=\"color: #00af00; text-decoration-color: #00af00\">0</span> │\n",
       "├──────────────────────────────────────┼─────────────────────────────┼─────────────────┤\n",
       "│ dense_2 (<span style=\"color: #0087ff; text-decoration-color: #0087ff\">Dense</span>)                      │ (<span style=\"color: #00d7ff; text-decoration-color: #00d7ff\">None</span>, <span style=\"color: #00af00; text-decoration-color: #00af00\">32</span>)                  │           <span style=\"color: #00af00; text-decoration-color: #00af00\">2,080</span> │\n",
       "├──────────────────────────────────────┼─────────────────────────────┼─────────────────┤\n",
       "│ dense_3 (<span style=\"color: #0087ff; text-decoration-color: #0087ff\">Dense</span>)                      │ (<span style=\"color: #00d7ff; text-decoration-color: #00d7ff\">None</span>, <span style=\"color: #00af00; text-decoration-color: #00af00\">1</span>)                   │              <span style=\"color: #00af00; text-decoration-color: #00af00\">33</span> │\n",
       "└──────────────────────────────────────┴─────────────────────────────┴─────────────────┘\n",
       "</pre>\n"
      ],
      "text/plain": [
       "┏━━━━━━━━━━━━━━━━━━━━━━━━━━━━━━━━━━━━━━┳━━━━━━━━━━━━━━━━━━━━━━━━━━━━━┳━━━━━━━━━━━━━━━━━┓\n",
       "┃\u001b[1m \u001b[0m\u001b[1mLayer (type)                        \u001b[0m\u001b[1m \u001b[0m┃\u001b[1m \u001b[0m\u001b[1mOutput Shape               \u001b[0m\u001b[1m \u001b[0m┃\u001b[1m \u001b[0m\u001b[1m        Param #\u001b[0m\u001b[1m \u001b[0m┃\n",
       "┡━━━━━━━━━━━━━━━━━━━━━━━━━━━━━━━━━━━━━━╇━━━━━━━━━━━━━━━━━━━━━━━━━━━━━╇━━━━━━━━━━━━━━━━━┩\n",
       "│ dense (\u001b[38;5;33mDense\u001b[0m)                        │ (\u001b[38;5;45mNone\u001b[0m, \u001b[38;5;34m128\u001b[0m)                 │         \u001b[38;5;34m102,912\u001b[0m │\n",
       "├──────────────────────────────────────┼─────────────────────────────┼─────────────────┤\n",
       "│ dropout (\u001b[38;5;33mDropout\u001b[0m)                    │ (\u001b[38;5;45mNone\u001b[0m, \u001b[38;5;34m128\u001b[0m)                 │               \u001b[38;5;34m0\u001b[0m │\n",
       "├──────────────────────────────────────┼─────────────────────────────┼─────────────────┤\n",
       "│ dense_1 (\u001b[38;5;33mDense\u001b[0m)                      │ (\u001b[38;5;45mNone\u001b[0m, \u001b[38;5;34m64\u001b[0m)                  │           \u001b[38;5;34m8,256\u001b[0m │\n",
       "├──────────────────────────────────────┼─────────────────────────────┼─────────────────┤\n",
       "│ dropout_1 (\u001b[38;5;33mDropout\u001b[0m)                  │ (\u001b[38;5;45mNone\u001b[0m, \u001b[38;5;34m64\u001b[0m)                  │               \u001b[38;5;34m0\u001b[0m │\n",
       "├──────────────────────────────────────┼─────────────────────────────┼─────────────────┤\n",
       "│ dense_2 (\u001b[38;5;33mDense\u001b[0m)                      │ (\u001b[38;5;45mNone\u001b[0m, \u001b[38;5;34m32\u001b[0m)                  │           \u001b[38;5;34m2,080\u001b[0m │\n",
       "├──────────────────────────────────────┼─────────────────────────────┼─────────────────┤\n",
       "│ dense_3 (\u001b[38;5;33mDense\u001b[0m)                      │ (\u001b[38;5;45mNone\u001b[0m, \u001b[38;5;34m1\u001b[0m)                   │              \u001b[38;5;34m33\u001b[0m │\n",
       "└──────────────────────────────────────┴─────────────────────────────┴─────────────────┘\n"
      ]
     },
     "metadata": {},
     "output_type": "display_data"
    },
    {
     "data": {
      "text/html": [
       "<pre style=\"white-space:pre;overflow-x:auto;line-height:normal;font-family:Menlo,'DejaVu Sans Mono',consolas,'Courier New',monospace\"><span style=\"font-weight: bold\"> Total params: </span><span style=\"color: #00af00; text-decoration-color: #00af00\">113,281</span> (442.50 KB)\n",
       "</pre>\n"
      ],
      "text/plain": [
       "\u001b[1m Total params: \u001b[0m\u001b[38;5;34m113,281\u001b[0m (442.50 KB)\n"
      ]
     },
     "metadata": {},
     "output_type": "display_data"
    },
    {
     "data": {
      "text/html": [
       "<pre style=\"white-space:pre;overflow-x:auto;line-height:normal;font-family:Menlo,'DejaVu Sans Mono',consolas,'Courier New',monospace\"><span style=\"font-weight: bold\"> Trainable params: </span><span style=\"color: #00af00; text-decoration-color: #00af00\">113,281</span> (442.50 KB)\n",
       "</pre>\n"
      ],
      "text/plain": [
       "\u001b[1m Trainable params: \u001b[0m\u001b[38;5;34m113,281\u001b[0m (442.50 KB)\n"
      ]
     },
     "metadata": {},
     "output_type": "display_data"
    },
    {
     "data": {
      "text/html": [
       "<pre style=\"white-space:pre;overflow-x:auto;line-height:normal;font-family:Menlo,'DejaVu Sans Mono',consolas,'Courier New',monospace\"><span style=\"font-weight: bold\"> Non-trainable params: </span><span style=\"color: #00af00; text-decoration-color: #00af00\">0</span> (0.00 B)\n",
       "</pre>\n"
      ],
      "text/plain": [
       "\u001b[1m Non-trainable params: \u001b[0m\u001b[38;5;34m0\u001b[0m (0.00 B)\n"
      ]
     },
     "metadata": {},
     "output_type": "display_data"
    }
   ],
   "source": [
    "# 8. Model Building\n",
    "def build_model(input_shape):\n",
    "    model = Sequential([\n",
    "        Dense(128, input_dim=input_shape, activation='relu', \n",
    "              kernel_regularizer=l2(0.01)),\n",
    "        Dropout(0.3),\n",
    "        Dense(64, activation='relu', kernel_regularizer=l2(0.01)),\n",
    "        Dropout(0.3),\n",
    "        Dense(32, activation='relu', kernel_regularizer=l2(0.01)),\n",
    "        Dense(1, activation='sigmoid')\n",
    "    ])\n",
    "    \n",
    "    model.compile(\n",
    "        optimizer=Adam(learning_rate=0.001),\n",
    "        loss='binary_crossentropy',\n",
    "        metrics=['accuracy', \n",
    "                 tf.keras.metrics.Precision(),\n",
    "                 tf.keras.metrics.Recall(),\n",
    "                 tf.keras.metrics.AUC()]\n",
    "    )\n",
    "    return model\n",
    "\n",
    "model = build_model(X_train_scaled.shape[1])\n",
    "print(\"\\nAрхитектура модели с количеством параметров:\")\n",
    "model.summary()"
   ]
  },
  {
   "cell_type": "markdown",
   "id": "c15d0d30-e844-42f1-8432-fffa89a965d5",
   "metadata": {},
   "source": [
    "# Блок 10: Обучение модели\n",
    "- Обучение модели с:\n",
    "- Ранней остановкой для предотвращения переобучения\n",
    "- Разделением на обучение и валидацию\n",
    "- 30 эпохами (но может остановиться раньше из-за EarlyStopping)"
   ]
  },
  {
   "cell_type": "code",
   "execution_count": 12,
   "id": "9f388b6e-2653-4632-b875-5c5efc67d082",
   "metadata": {},
   "outputs": [
    {
     "name": "stdout",
     "output_type": "stream",
     "text": [
      "Epoch 1/30\n",
      "58/58 - 3s - 45ms/step - accuracy: 0.7586 - auc: 0.8554 - loss: 2.9263 - precision: 0.7123 - recall: 0.8474 - val_accuracy: 0.9037 - val_auc: 0.9679 - val_loss: 2.0167 - val_precision: 0.9683 - val_recall: 0.8526\n",
      "Epoch 2/30\n",
      "58/58 - 0s - 5ms/step - accuracy: 0.9469 - auc: 0.9828 - loss: 1.6113 - precision: 0.9491 - recall: 0.9416 - val_accuracy: 0.9716 - val_auc: 0.9992 - val_loss: 1.2513 - val_precision: 1.0000 - val_recall: 0.9482\n",
      "Epoch 3/30\n",
      "58/58 - 0s - 5ms/step - accuracy: 0.9814 - auc: 0.9950 - loss: 1.0746 - precision: 0.9886 - recall: 0.9731 - val_accuracy: 0.9781 - val_auc: 0.9974 - val_loss: 0.8999 - val_precision: 1.0000 - val_recall: 0.9602\n",
      "Epoch 4/30\n",
      "58/58 - 0s - 5ms/step - accuracy: 0.9934 - auc: 0.9969 - loss: 0.7674 - precision: 0.9989 - recall: 0.9877 - val_accuracy: 0.9912 - val_auc: 0.9999 - val_loss: 0.6388 - val_precision: 1.0000 - val_recall: 0.9841\n",
      "Epoch 5/30\n",
      "58/58 - 0s - 5ms/step - accuracy: 0.9929 - auc: 0.9997 - loss: 0.5709 - precision: 0.9955 - recall: 0.9899 - val_accuracy: 0.9956 - val_auc: 1.0000 - val_loss: 0.4841 - val_precision: 1.0000 - val_recall: 0.9920\n",
      "Epoch 6/30\n",
      "58/58 - 0s - 5ms/step - accuracy: 0.9951 - auc: 0.9989 - loss: 0.4429 - precision: 0.9989 - recall: 0.9910 - val_accuracy: 1.0000 - val_auc: 1.0000 - val_loss: 0.3841 - val_precision: 1.0000 - val_recall: 1.0000\n",
      "Epoch 7/30\n",
      "58/58 - 0s - 5ms/step - accuracy: 0.9967 - auc: 1.0000 - loss: 0.3437 - precision: 0.9989 - recall: 0.9944 - val_accuracy: 0.9934 - val_auc: 1.0000 - val_loss: 0.3070 - val_precision: 1.0000 - val_recall: 0.9880\n",
      "Epoch 8/30\n",
      "58/58 - 0s - 5ms/step - accuracy: 0.9973 - auc: 1.0000 - loss: 0.2755 - precision: 1.0000 - recall: 0.9944 - val_accuracy: 0.9956 - val_auc: 1.0000 - val_loss: 0.2509 - val_precision: 1.0000 - val_recall: 0.9920\n",
      "Epoch 9/30\n",
      "58/58 - 0s - 5ms/step - accuracy: 0.9989 - auc: 1.0000 - loss: 0.2294 - precision: 1.0000 - recall: 0.9978 - val_accuracy: 0.9825 - val_auc: 1.0000 - val_loss: 0.2391 - val_precision: 1.0000 - val_recall: 0.9681\n",
      "Epoch 10/30\n",
      "58/58 - 0s - 5ms/step - accuracy: 0.9951 - auc: 0.9999 - loss: 0.2145 - precision: 0.9977 - recall: 0.9921 - val_accuracy: 0.9759 - val_auc: 1.0000 - val_loss: 0.2292 - val_precision: 1.0000 - val_recall: 0.9562\n",
      "Epoch 11/30\n",
      "58/58 - 0s - 4ms/step - accuracy: 0.9874 - auc: 0.9995 - loss: 0.2202 - precision: 0.9943 - recall: 0.9798 - val_accuracy: 0.9912 - val_auc: 1.0000 - val_loss: 0.2117 - val_precision: 1.0000 - val_recall: 0.9841\n",
      "Epoch 12/30\n",
      "58/58 - 0s - 5ms/step - accuracy: 0.9885 - auc: 0.9994 - loss: 0.2129 - precision: 0.9899 - recall: 0.9865 - val_accuracy: 0.9847 - val_auc: 0.9997 - val_loss: 0.2223 - val_precision: 1.0000 - val_recall: 0.9721\n",
      "Epoch 13/30\n",
      "58/58 - 0s - 5ms/step - accuracy: 0.9973 - auc: 1.0000 - loss: 0.1910 - precision: 0.9989 - recall: 0.9955 - val_accuracy: 0.9912 - val_auc: 1.0000 - val_loss: 0.1823 - val_precision: 1.0000 - val_recall: 0.9841\n",
      "Epoch 14/30\n",
      "58/58 - 0s - 5ms/step - accuracy: 0.9962 - auc: 1.0000 - loss: 0.1688 - precision: 0.9977 - recall: 0.9944 - val_accuracy: 0.9912 - val_auc: 1.0000 - val_loss: 0.1749 - val_precision: 1.0000 - val_recall: 0.9841\n",
      "Epoch 15/30\n",
      "58/58 - 0s - 5ms/step - accuracy: 0.9989 - auc: 1.0000 - loss: 0.1500 - precision: 0.9989 - recall: 0.9989 - val_accuracy: 0.9978 - val_auc: 1.0000 - val_loss: 0.1516 - val_precision: 1.0000 - val_recall: 0.9960\n",
      "Epoch 16/30\n",
      "58/58 - 0s - 5ms/step - accuracy: 0.9995 - auc: 1.0000 - loss: 0.1320 - precision: 1.0000 - recall: 0.9989 - val_accuracy: 0.9956 - val_auc: 1.0000 - val_loss: 0.1424 - val_precision: 1.0000 - val_recall: 0.9920\n",
      "Epoch 17/30\n",
      "58/58 - 0s - 5ms/step - accuracy: 0.9989 - auc: 1.0000 - loss: 0.1275 - precision: 1.0000 - recall: 0.9978 - val_accuracy: 0.9934 - val_auc: 1.0000 - val_loss: 0.1419 - val_precision: 1.0000 - val_recall: 0.9880\n",
      "Epoch 18/30\n",
      "58/58 - 0s - 5ms/step - accuracy: 0.9721 - auc: 0.9965 - loss: 0.2026 - precision: 0.9751 - recall: 0.9675 - val_accuracy: 0.9059 - val_auc: 0.9723 - val_loss: 0.3854 - val_precision: 0.8969 - val_recall: 0.9363\n",
      "Epoch 19/30\n",
      "58/58 - 0s - 5ms/step - accuracy: 0.9808 - auc: 0.9973 - loss: 0.2252 - precision: 0.9831 - recall: 0.9776 - val_accuracy: 0.9934 - val_auc: 0.9986 - val_loss: 0.2217 - val_precision: 1.0000 - val_recall: 0.9880\n",
      "Epoch 20/30\n",
      "58/58 - 0s - 5ms/step - accuracy: 0.9929 - auc: 0.9989 - loss: 0.1868 - precision: 0.9944 - recall: 0.9910 - val_accuracy: 0.9759 - val_auc: 1.0000 - val_loss: 0.2076 - val_precision: 1.0000 - val_recall: 0.9562\n",
      "Epoch 21/30\n",
      "58/58 - 0s - 5ms/step - accuracy: 0.9967 - auc: 1.0000 - loss: 0.1561 - precision: 1.0000 - recall: 0.9933 - val_accuracy: 0.9869 - val_auc: 1.0000 - val_loss: 0.1579 - val_precision: 1.0000 - val_recall: 0.9761\n",
      "Epoch 22/30\n",
      "58/58 - 0s - 5ms/step - accuracy: 0.9984 - auc: 1.0000 - loss: 0.1314 - precision: 1.0000 - recall: 0.9966 - val_accuracy: 0.9934 - val_auc: 1.0000 - val_loss: 0.1439 - val_precision: 1.0000 - val_recall: 0.9880\n",
      "Epoch 22: early stopping\n",
      "Restoring model weights from the end of the best epoch: 17.\n"
     ]
    }
   ],
   "source": [
    "# 9. Model Training\n",
    "early_stopping = EarlyStopping(\n",
    "    monitor='val_loss',\n",
    "    patience=5,\n",
    "    restore_best_weights=True,\n",
    "    verbose=1\n",
    ")\n",
    "\n",
    "history = model.fit(\n",
    "    X_train_scaled,\n",
    "    y_train_res,\n",
    "    epochs=30,\n",
    "    batch_size=32,\n",
    "    validation_split=0.2,\n",
    "    callbacks=[early_stopping],\n",
    "    verbose=2\n",
    ")"
   ]
  },
  {
   "cell_type": "markdown",
   "id": "d29f91b1-16d0-40b6-b6d2-3ce1b176a64d",
   "metadata": {},
   "source": [
    "Блок 11: Визуализация обучения\n",
    "-  точности на обучении и валидации\n",
    "- График потерь на обучении и валидации"
   ]
  },
  {
   "cell_type": "code",
   "execution_count": 13,
   "id": "eafe3cbf-d9a0-493f-8165-1428740ad556",
   "metadata": {},
   "outputs": [
    {
     "data": {
      "image/png": "[encoded data removed]",
      "text/plain": [
       "<Figure size 1200x400 with 2 Axes>"
      ]
     },
     "metadata": {},
     "output_type": "display_data"
    }
   ],
   "source": [
    "# 10. Model Evaluation\n",
    "def plot_training_history(history):\n",
    "    plt.figure(figsize=(12, 4))\n",
    "    \n",
    "    plt.subplot(1, 2, 1)  \n",
    "    plt.plot(history.history['accuracy'], label='Точность на обучении')  \n",
    "    plt.plot(history.history['val_accuracy'], label='Точность на валидации')  \n",
    "    plt.title('Точность по эпохам')  \n",
    "    plt.xlabel('Эпоха')  \n",
    "    plt.ylabel('Точность')  \n",
    "    plt.legend()  \n",
    "  \n",
    "    plt.subplot(1, 2, 2)  \n",
    "    plt.plot(history.history['loss'], label='Потери на обучении')  \n",
    "    plt.plot(history.history['val_loss'], label='Потери на валидации')  \n",
    "    plt.title('Потери по эпохам')  \n",
    "    plt.xlabel('Эпоха')  \n",
    "    plt.ylabel('Потери')  \n",
    "    plt.legend()  \n",
    "  \n",
    "    plt.tight_layout()  \n",
    "    plt.show()  \n",
    "\n",
    "plot_training_history(history)"
   ]
  },
  {
   "cell_type": "markdown",
   "id": "896a98a0-e671-485d-8822-02bb13d07000",
   "metadata": {},
   "source": [
    "# Блок 12: Оценка модели\n",
    "Оценка модели на тестовых данных:\n",
    "- Отчет о классификации с метриками\n",
    "- Матрица ошибок для визуальной оценки"
   ]
  },
  {
   "cell_type": "code",
   "execution_count": 14,
   "id": "eaad4d0d-5070-4385-80e5-68973a0b5ee1",
   "metadata": {},
   "outputs": [
    {
     "name": "stdout",
     "output_type": "stream",
     "text": [
      "\u001b[1m18/18\u001b[0m \u001b[32m━━━━━━━━━━━━━━━━━━━━\u001b[0m\u001b[37m\u001b[0m \u001b[1m0s\u001b[0m 4ms/step \n",
      "\n",
      "Отчёт о классификации:\n",
      "              precision    recall  f1-score   support\n",
      "\n",
      "           0       0.98      1.00      0.99       286\n",
      "           1       1.00      0.98      0.99       286\n",
      "\n",
      "    accuracy                           0.99       572\n",
      "   macro avg       0.99      0.99      0.99       572\n",
      "weighted avg       0.99      0.99      0.99       572\n",
      "\n"
     ]
    },
    {
     "data": {
      "image/png": "[encoded data removed]",
      "text/plain": [
       "<Figure size 600x600 with 2 Axes>"
      ]
     },
     "metadata": {},
     "output_type": "display_data"
    }
   ],
   "source": [
    "# Предсказания\n",
    "y_pred_proba = model.predict(X_test_scaled)\n",
    "y_pred = (y_pred_proba > 0.5).astype(int)\n",
    "\n",
    "# Отчёт о классификации\n",
    "print(\"\\nОтчёт о классификации:\")\n",
    "print(classification_report(y_test, y_pred))\n",
    "\n",
    "# Матрица ошибок\n",
    "cm = confusion_matrix(y_test, y_pred)\n",
    "plt.figure(figsize=(6, 6))\n",
    "sns.heatmap(cm, annot=True, fmt='d', cmap='Blues',\n",
    "            xticklabels=['Предсказано 0', 'Предсказано 1'],\n",
    "            yticklabels=['Истинный 0', 'Истинный 1'])\n",
    "plt.title('Матрица ошибок - ')\n",
    "plt.show()"
   ]
  },
  {
   "cell_type": "markdown",
   "id": "841a978d-54bc-4482-b901-a9f400883c71",
   "metadata": {},
   "source": [
    "# Блок 13: Анализ по типам помех\n",
    "Анализ точности модели в зависимости от типа помехи.\n"
   ]
  },
  {
   "cell_type": "code",
   "execution_count": 15,
   "id": "2df24a9a-74d2-405f-a9db-5420c116a8d8",
   "metadata": {},
   "outputs": [
    {
     "name": "stdout",
     "output_type": "stream",
     "text": [
      "\n",
      "Точность модели для каждого типа помех:\n",
      "  interference_type  accuracy\n",
      "1        Co-channel  1.000000\n",
      "2   Intermodulation  1.000000\n",
      "0  Adjacent-channel  0.987685\n"
     ]
    },
    {
     "name": "stderr",
     "output_type": "stream",
     "text": [
      "C:\\Users\\diate\\AppData\\Local\\Temp\\ipykernel_1992\\984831484.py:15: DeprecationWarning: DataFrameGroupBy.apply operated on the grouping columns. This behavior is deprecated, and in a future version of pandas the grouping columns will be excluded from the operation. Either pass `include_groups=False` to exclude the groupings or explicitly select the grouping columns after groupby to silence this warning.\n",
      "  interference_performance = performance_df.groupby('interference_type').apply(\n"
     ]
    },
    {
     "data": {
      "image/png": "[encoded data removed]",
      "text/plain": [
       "<Figure size 1000x600 with 1 Axes>"
      ]
     },
     "metadata": {},
     "output_type": "display_data"
    }
   ],
   "source": [
    "# 11. Interference Type Analysis\n",
    "def analyze_interference_performance(df, X_test, y_test, y_pred, interference_classes):\n",
    "    # Get original test indices\n",
    "    _, test_indices = train_test_split(\n",
    "        np.arange(len(df)), test_size=0.2, random_state=42, stratify=y)\n",
    "    \n",
    "    # Create performance dataframe\n",
    "    performance_df = pd.DataFrame({\n",
    "        'true_class': y_test,\n",
    "        'predicted_class': y_pred.flatten(),\n",
    "        'interference_type': df.iloc[test_indices]['noise_interference_type'].values\n",
    "    })\n",
    "    \n",
    "    # Calculate accuracy by interference type\n",
    "    interference_performance = performance_df.groupby('interference_type').apply(\n",
    "        lambda x: (x['true_class'] == x['predicted_class']).mean()).reset_index()\n",
    "    interference_performance.columns = ['interference_type', 'accuracy']\n",
    "    \n",
    "    print(\"\\nТочность модели для каждого типа помех:\")\n",
    "    print(interference_performance.sort_values('accuracy', ascending=False))\n",
    "    \n",
    "    # Plot performance\n",
    "    plt.figure(figsize=(10, 6))\n",
    "    sns.barplot(data=interference_performance.sort_values('accuracy'), \n",
    "                y='interference_type', x='accuracy')\n",
    "    plt.title('Model Accuracy by Interference Type')\n",
    "    plt.xlabel('Accuracy')\n",
    "    plt.ylabel('Interference Type')\n",
    "    plt.show()\n",
    "    \n",
    "    return performance_df\n",
    "\n",
    "performance_df = analyze_interference_performance(\n",
    "    df, X_test, y_test, y_pred, interference_classes)"
   ]
  },
  {
   "cell_type": "markdown",
   "id": "cec8b060-7c6e-4852-a86f-34c1746d51b4",
   "metadata": {},
   "source": [
    "# Блок 13: Финальные метрики"
   ]
  },
  {
   "cell_type": "code",
   "execution_count": 16,
   "id": "c2ca2f53-9af4-407b-8cbd-893ba58fb86e",
   "metadata": {},
   "outputs": [],
   "source": [
    "from sklearn.metrics import classification_report, confusion_matrix, roc_auc_score, roc_curve"
   ]
  },
  {
   "cell_type": "code",
   "execution_count": 17,
   "id": "342c721b-8f7e-4421-8b7f-35f42cd35c53",
   "metadata": {},
   "outputs": [
    {
     "name": "stdout",
     "output_type": "stream",
     "text": [
      "\n",
      "Метрики итоговой оценки::\n",
      "Test Accuracy: 0.9913\n",
      "ROC AUC Score: 1.0000\n",
      "Average Precision: 1.0000\n"
     ]
    }
   ],
   "source": [
    "# 13. Final Model Evaluation Metrics\n",
    "from sklearn.metrics import roc_auc_score, average_precision_score\n",
    "\n",
    "print(\"\\nМетрики итоговой оценки::\")\n",
    "print(f\"Test Accuracy: {np.mean(y_pred.flatten() == y_test):.4f}\")\n",
    "print(f\"ROC AUC Score: {roc_auc_score(y_test, y_pred_proba):.4f}\")\n",
    "print(f\"Average Precision: {average_precision_score(y_test, y_pred_proba):.4f}\")"
   ]
  },
  {
   "cell_type": "markdown",
   "id": "ab03f53a-b07e-4653-b2fe-99238480f1cb",
   "metadata": {},
   "source": [
    "# Блок 14: Сохранение модели"
   ]
  },
  {
   "cell_type": "code",
   "execution_count": 18,
   "id": "a4b31d53-8631-4013-b8cf-78af2b2bbdd2",
   "metadata": {},
   "outputs": [
    {
     "name": "stdout",
     "output_type": "stream",
     "text": [
      "\n",
      "Модель и объекты предварительной обработки успешно сохранены.\n"
     ]
    }
   ],
   "source": [
    "# 14. Save the Model and Preprocessing Objects\n",
    "import joblib\n",
    "\n",
    "joblib.dump(scaler, 'scaler.pkl')\n",
    "joblib.dump(interference_classes, 'interference_classes.pkl')\n",
    "model.save('interference_classifier.keras')  # Novo formato Keras V3\n",
    "\n",
    "print(\"\\nМодель и объекты предварительной обработки успешно сохранены.\")"
   ]
  },
  {
   "cell_type": "code",
   "execution_count": null,
   "id": "3041bc10-2682-402f-bd8d-c2fb28bd7477",
   "metadata": {},
   "outputs": [],
   "source": []
  }
 ],
 "metadata": {
  "kernelspec": {
   "display_name": "tf_env",
   "language": "python",
   "name": "tf_env"
  },
  "language_info": {
   "codemirror_mode": {
    "name": "ipython",
    "version": 3
   },
   "file_extension": ".py",
   "mimetype": "text/x-python",
   "name": "python",
   "nbconvert_exporter": "python",
   "pygments_lexer": "ipython3",
   "version": "3.12.0"
  }
 },
 "nbformat": 4,
 "nbformat_minor": 5
}
