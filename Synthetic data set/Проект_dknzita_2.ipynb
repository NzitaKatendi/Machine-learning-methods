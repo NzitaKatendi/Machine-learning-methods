{
 "cells": [
  {
   "cell_type": "markdown",
   "id": "50fe3f64-e88f-4584-8c65-9789f212e42c",
   "metadata": {},
   "source": [
    "# Feedforward Neural Network (Multilayer Perceptron - MLP)\n",
    "Нейронная сеть с прямолинейным движением (многослойный перцептрон - MLP)"
   ]
  },
  {
   "cell_type": "markdown",
   "id": "25d78f76-0351-435b-889d-1416394fe9ad",
   "metadata": {},
   "source": [
    "# 1. Импорт библиотек\n",
    "Этот блок содержит все необходимые импорты библиотек для:\n",
    "\n",
    "- Работы с данными (numpy, pandas)\n",
    "- Машинного обучения (tensorflow, sklearn)\n",
    "- Обработки сигналов (pywt для вейвлет-преобразований)\n",
    "- Визуализации (seaborn, matplotlib)"
   ]
  },
  {
   "cell_type": "markdown",
   "id": "fdec2954-ee7b-4d73-a0b8-5437c6b82cf1",
   "metadata": {},
   "source": [
    "# 1. Импорт необходимых библиотек"
   ]
  },
  {
   "cell_type": "code",
   "execution_count": 1,
   "id": "b68081c6-f0e7-4b7e-9626-e9e4d6ac8755",
   "metadata": {},
   "outputs": [],
   "source": [
    "import pandas as pd\n",
    "import numpy as np\n",
    "import ast\n",
    "import tensorflow as tf\n",
    "from tensorflow.keras.models import Sequential\n",
    "from tensorflow.keras.layers import Dense, Dropout\n",
    "from tensorflow.keras.optimizers import Adam\n",
    "from tensorflow.keras.callbacks import EarlyStopping\n",
    "from sklearn.model_selection import train_test_split\n",
    "from sklearn.preprocessing import StandardScaler\n",
    "from sklearn.metrics import classification_report, confusion_matrix, roc_auc_score, roc_curve\n",
    "import seaborn as sns\n",
    "import matplotlib.pyplot as plt\n",
    "from imblearn.over_sampling import SMOTE\n",
    "import warnings\n",
    "warnings.filterwarnings(\"ignore\")\n"
   ]
  },
  {
   "cell_type": "markdown",
   "id": "d6d82352-e338-4cbb-a201-2c01e6e71895",
   "metadata": {},
   "source": [
    "# 2. Загрузка данных\n",
    "Читаем CSV-файл с данными.\n",
    "df.head(6) выводит первые 6 строк таблицы"
   ]
  },
  {
   "cell_type": "code",
   "execution_count": 4,
   "id": "c2e90da6-7d98-4bc3-97a3-3640d5b394de",
   "metadata": {},
   "outputs": [
    {
     "data": {
      "text/html": [
       "<div>\n",
       "<style scoped>\n",
       "    .dataframe tbody tr th:only-of-type {\n",
       "        vertical-align: middle;\n",
       "    }\n",
       "\n",
       "    .dataframe tbody tr th {\n",
       "        vertical-align: top;\n",
       "    }\n",
       "\n",
       "    .dataframe thead th {\n",
       "        text-align: right;\n",
       "    }\n",
       "</style>\n",
       "<table border=\"1\" class=\"dataframe\">\n",
       "  <thead>\n",
       "    <tr style=\"text-align: right;\">\n",
       "      <th></th>\n",
       "      <th>Clean_Signal</th>\n",
       "      <th>Noisy_Signal</th>\n",
       "      <th>Class</th>\n",
       "    </tr>\n",
       "  </thead>\n",
       "  <tbody>\n",
       "    <tr>\n",
       "      <th>0</th>\n",
       "      <td>-0.050548</td>\n",
       "      <td>0.120108</td>\n",
       "      <td>0</td>\n",
       "    </tr>\n",
       "    <tr>\n",
       "      <th>1</th>\n",
       "      <td>-0.022422</td>\n",
       "      <td>-0.007673</td>\n",
       "      <td>0</td>\n",
       "    </tr>\n",
       "    <tr>\n",
       "      <th>2</th>\n",
       "      <td>0.430269</td>\n",
       "      <td>1.163845</td>\n",
       "      <td>1</td>\n",
       "    </tr>\n",
       "    <tr>\n",
       "      <th>3</th>\n",
       "      <td>0.101930</td>\n",
       "      <td>0.100857</td>\n",
       "      <td>0</td>\n",
       "    </tr>\n",
       "    <tr>\n",
       "      <th>4</th>\n",
       "      <td>1.462921</td>\n",
       "      <td>2.911377</td>\n",
       "      <td>1</td>\n",
       "    </tr>\n",
       "    <tr>\n",
       "      <th>5</th>\n",
       "      <td>0.045052</td>\n",
       "      <td>0.629904</td>\n",
       "      <td>1</td>\n",
       "    </tr>\n",
       "  </tbody>\n",
       "</table>\n",
       "</div>"
      ],
      "text/plain": [
       "   Clean_Signal  Noisy_Signal  Class\n",
       "0     -0.050548      0.120108      0\n",
       "1     -0.022422     -0.007673      0\n",
       "2      0.430269      1.163845      1\n",
       "3      0.101930      0.100857      0\n",
       "4      1.462921      2.911377      1\n",
       "5      0.045052      0.629904      1"
      ]
     },
     "execution_count": 4,
     "metadata": {},
     "output_type": "execute_result"
    }
   ],
   "source": [
    "df = pd.read_csv('final_dataset.csv')  # Убедитесь, что путь к файлу указан правильно\n",
    "df.head(6)"
   ]
  },
  {
   "cell_type": "markdown",
   "id": "098af676-e614-4dad-8f0e-70831ef861aa",
   "metadata": {},
   "source": [
    "# 3. Функции для извлечения признаков из сигнала\n",
    "️ Функция для временных, частотных и вейвлет-признаков\n",
    "- Вычисляются основные статистические характеристики сигнала (среднее, медиана, энтропия, перекрестные нули и т. д.).\n",
    "- Метод Вельча (welch) используется для оценки спектра мощности сигнала.\n",
    "- Вычисляются такие показатели, как спектральная энергия, спектральный центроид и энтропия спектра\n",
    "- Вейвлет-преобразование (pywt.wavedec) анализирует сигналы на разных масштабах.\n",
    "Это позволяет выявить закономерности, которые трудно обнаружить в исходном сигнале."
   ]
  },
  {
   "cell_type": "code",
   "execution_count": 6,
   "id": "969a5432-5d70-4958-95da-1b58c232046e",
   "metadata": {},
   "outputs": [],
   "source": [
    "def extract_enhanced_features(signal, fs=1000):\n",
    "    \"\"\"Extração de características temporais, frequenciais e wavelet\"\"\"\n",
    "    features = {}\n",
    "\n",
    "    # 1. Características estatísticas básicas\n",
    "    features.update({\n",
    "        'mean': np.mean(signal),\n",
    "        'std': np.std(signal),\n",
    "        'max': np.max(signal),\n",
    "        'min': np.min(signal),\n",
    "        'median': np.median(signal),\n",
    "        'q25': np.percentile(signal, 25),\n",
    "        'q75': np.percentile(signal, 75),\n",
    "        'rms': np.sqrt(np.mean(signal**2)),\n",
    "        'zero_crossings': ((signal[:-1] * signal[1:]) < 0).sum(),\n",
    "        'entropy': np.sum(-signal * np.log(signal + 1e-10)),\n",
    "        'skewness': pd.Series(signal).skew(),\n",
    "        'kurtosis': pd.Series(signal).kurtosis()\n",
    "    })\n",
    "\n",
    "    # 2. Características frequenciais (método de Welch)\n",
    "    try:\n",
    "        f, Pxx = welch(signal, fs=fs, nperseg=min(len(signal), 256))\n",
    "        features.update({\n",
    "            'spectral_centroid': np.sum(f * Pxx) / np.sum(Pxx),\n",
    "            'spectral_bandwidth': np.sqrt(np.sum((f - features['spectral_centroid'])**2 * Pxx)),\n",
    "            'spectral_entropy': -np.sum(Pxx * np.log2(Pxx + 1e-12)),\n",
    "            'spectral_flatness': np.exp(np.mean(np.log(Pxx + 1e-10))) / np.mean(Pxx),\n",
    "            'spectral_energy': np.sum(Pxx),\n",
    "            'peak_frequency': f[np.argmax(Pxx)]\n",
    "        })\n",
    "    except:\n",
    "        features.update({k: 0 for k in ['spectral_centroid', 'spectral_bandwidth',\n",
    "                                      'spectral_entropy', 'spectral_flatness',\n",
    "                                      'spectral_energy', 'peak_frequency']})\n",
    "\n",
    "    # 3. Características wavelet\n",
    "    try:\n",
    "        coeffs = pywt.wavedec(signal, 'db4', level=3)\n",
    "        for i, c in enumerate(coeffs):\n",
    "            features.update({\n",
    "                f'wavelet_l{i}_mean': np.mean(c),\n",
    "                f'wavelet_l{i}_std': np.std(c),\n",
    "                f'wavelet_l{i}_energy': np.sum(c**2),\n",
    "                f'wavelet_l{i}_entropy': -np.sum(c**2 * np.log(c**2 + 1e-10))\n",
    "            })\n",
    "        total_energy = np.sum([np.sum(c**2) for c in coeffs])\n",
    "        features.update({\n",
    "            'wavelet_total_energy': total_energy,\n",
    "            'wavelet_energy_ratio': np.sum(coeffs[0]**2) / (total_energy + 1e-10)\n",
    "        })\n",
    "    except:\n",
    "        wavelet_features = {f'wavelet_l{i}_{j}': 0 for i in range(4)\n",
    "                          for j in ['mean', 'std', 'energy', 'entropy']}\n",
    "        wavelet_features.update({\n",
    "            'wavelet_total_energy': 0,\n",
    "            'wavelet_energy_ratio': 0\n",
    "        })\n",
    "        features.update(wavelet_features)\n",
    "\n",
    "    return features\n",
    "\n",
    "def extract_spectrogram_features(signal, fs=1000):\n",
    "    \"\"\"Extração de características da espectrograma do sinal\"\"\"\n",
    "    features = {}\n",
    "\n",
    "    try:\n",
    "        f, t, Sxx = spectrogram(signal, fs=fs, nperseg=256)\n",
    "\n",
    "        # Espectro centroids\n",
    "        spectral_centroid = np.sum(f[:, None] * Sxx, axis=0) / np.sum(Sxx, axis=0)\n",
    "        features.update({\n",
    "            'spec_centroid_mean': np.mean(spectral_centroid),\n",
    "            'spec_centroid_std': np.std(spectral_centroid),\n",
    "            'spec_centroid_max': np.max(spectral_centroid),\n",
    "            'spec_centroid_min': np.min(spectral_centroid)\n",
    "        })\n",
    "\n",
    "        # Largura espectral\n",
    "        spectral_bandwidth = np.sqrt(np.sum((f[:, None] - spectral_centroid)**2 * Sxx, axis=0) / np.sum(Sxx, axis=0))\n",
    "        features.update({\n",
    "            'spec_bandwidth_mean': np.mean(spectral_bandwidth),\n",
    "            'spec_bandwidth_std': np.std(spectral_bandwidth)\n",
    "        })\n",
    "\n",
    "        # Entropia espectral\n",
    "        spectral_entropy = -np.sum(Sxx * np.log(Sxx + 1e-10), axis=0)\n",
    "        features.update({\n",
    "            'spec_entropy_mean': np.mean(spectral_entropy),\n",
    "            'spec_entropy_std': np.std(spectral_entropy)\n",
    "        })\n",
    "\n",
    "        # Planície espectral\n",
    "        spectral_flatness = np.exp(np.mean(np.log(Sxx + 1e-10), axis=0)) / np.mean(Sxx, axis=0)\n",
    "        features.update({\n",
    "            'spec_flatness_mean': np.mean(spectral_flatness),\n",
    "            'spec_flatness_std': np.std(spectral_flatness)\n",
    "        })\n",
    "\n",
    "        # Energia espectral\n",
    "        spectral_energy = np.sum(Sxx, axis=0)\n",
    "        features.update({\n",
    "            'spec_energy_mean': np.mean(spectral_energy),\n",
    "            'spec_energy_std': np.std(spectral_energy),\n",
    "            'spec_total_energy': np.sum(Sxx),\n",
    "            'spec_peak_freq': f[np.argmax(np.mean(Sxx, axis=1))]  # Pico da frequência\n",
    "        })\n",
    "    except:\n",
    "        spec_features = {\n",
    "            'spec_centroid_mean': 0, 'spec_centroid_std': 0,\n",
    "            'spec_centroid_max': 0, 'spec_centroid_min': 0,\n",
    "            'spec_bandwidth_mean': 0, 'spec_bandwidth_std': 0,\n",
    "            'spec_entropy_mean': 0, 'spec_entropy_std': 0,\n",
    "            'spec_flatness_mean': 0, 'spec_flatness_std': 0,\n",
    "            'spec_energy_mean': 0, 'spec_energy_std': 0,\n",
    "            'spec_total_energy': 0, 'spec_peak_freq': 0\n",
    "        }\n",
    "        features.update(spec_features)\n",
    "\n",
    "    return features\n",
    "\n",
    "def extract_all_features(signal, fs=1000):\n",
    "    \"\"\"Extração de todas as características (temporais, frequenciais, espectrais e wavelet)\"\"\"\n",
    "    signal = ensure_signal_is_sequence(signal)  # Garantir que o sinal seja uma sequência de números\n",
    "    features = {}\n",
    "    features.update(extract_enhanced_features(signal, fs))\n",
    "    features.update(extract_spectrogram_features(signal, fs))\n",
    "    return features"
   ]
  },
  {
   "cell_type": "markdown",
   "id": "7b05d38e-d949-4c6c-a0c4-e365ade3c025",
   "metadata": {},
   "source": [
    "# 4. Комбинированная функция извлечения признаков\n",
    "Объединяет все признаки из предыдущих функций в один словарь."
   ]
  },
  {
   "cell_type": "code",
   "execution_count": 7,
   "id": "5c0ed99c-3ce0-4ec5-80c7-8ce7ce03b883",
   "metadata": {},
   "outputs": [],
   "source": [
    "\n",
    "def extract_all_features(signal, fs=1000):\n",
    "    \"\"\"Extração de todas as características (temporais, frequenciais, espectrais e wavelet)\"\"\"\n",
    "    signal = ensure_signal_is_sequence(signal)  # Garantir que o sinal seja uma sequência de números\n",
    "    features = {}\n",
    "    features.update(extract_enhanced_features(signal, fs))\n",
    "    features.update(extract_spectrogram_features(signal, fs))\n",
    "    return features\n",
    "\n",
    "# Função para garantir que o sinal seja uma sequência de números (array ou lista)\n",
    "def ensure_signal_is_sequence(signal):\n",
    "    if isinstance(signal, str):  # Se for uma string, tenta convertê-la\n",
    "        try:\n",
    "            signal = np.array(ast.literal_eval(signal))\n",
    "        except:\n",
    "            signal = np.zeros(100)  # Em caso de falha, cria um array de zeros\n",
    "    elif isinstance(signal, (float, int)):  # Se for um único valor, cria um array\n",
    "        signal = np.array([signal])\n",
    "    elif not isinstance(signal, np.ndarray):  # Se não for array, converte para array\n",
    "        signal = np.array(signal)\n",
    "    return signal"
   ]
  },
  {
   "cell_type": "markdown",
   "id": "8ca7a137-1ca6-4a51-9688-556207c1eb49",
   "metadata": {},
   "source": [
    "# 5. Подготовка данных\n",
    "- Извлекаются признаки для чистых (Clean_Signal) и зашумленных (Noisy_Signal) сигналов.\n",
    "- Объединяются в матрицу признаков X.\n",
    "- Целевая переменная y — это столбец Class.\n",
    "- Обрабатываются NaN и бесконечные значения."
   ]
  },
  {
   "cell_type": "code",
   "execution_count": 8,
   "id": "595458b2-0f09-42a4-aa16-06ed88fdabda",
   "metadata": {},
   "outputs": [
    {
     "name": "stdout",
     "output_type": "stream",
     "text": [
      "Извлечение характеристик из сигналов...\n"
     ]
    }
   ],
   "source": [
    "# Aplicando as funções para extração de características no DataFrame\n",
    "print(\"Извлечение характеристик из сигналов...\")\n",
    "clean_features = pd.DataFrame(df['Clean_Signal'].apply(lambda x: extract_all_features(x, fs=1000)).tolist()).add_prefix('clean_')\n",
    "noisy_features = pd.DataFrame(df['Noisy_Signal'].apply(lambda x: extract_all_features(x, fs=1000)).tolist()).add_prefix('noise_')\n",
    "\n",
    "# Combina todas as características\n",
    "X = pd.concat([clean_features, noisy_features,\n",
    "               df[['Clean_Signal', 'Noisy_Signal']]], axis=1)\n",
    "y = df['Class']\n",
    "\n",
    "# Tratar valores NaN/inf\n",
    "X = X.replace([np.inf, -np.inf], np.nan).fillna(0)\n",
    "\n"
   ]
  },
  {
   "cell_type": "markdown",
   "id": "2f689f3e-2e4b-4cb6-a2c3-d9562f88cc4a",
   "metadata": {},
   "source": [
    "# 6. Разделение данных и SMOTE\n",
    "Данные делятся на обучающую и тестовую выборки (80/20). SMOTE используется для устранения дисбаланса классов в обучающих данных."
   ]
  },
  {
   "cell_type": "code",
   "execution_count": 10,
   "id": "a54b631f-2900-4b33-89e5-d42cf20605e5",
   "metadata": {},
   "outputs": [],
   "source": [
    "# Dividir os dados em treino e teste\n",
    "X_train, X_test, y_train, y_test = train_test_split(X, y, test_size=0.2, random_state=42)\n",
    "\n",
    "# Aplicando SMOTE manualmente no treino\n",
    "smote = SMOTE(random_state=42)\n",
    "X_train_res, y_train_res = smote.fit_resample(X_train, y_train)"
   ]
  },
  {
   "cell_type": "markdown",
   "id": "8323164f-c8fc-4708-ac60-585bfd48bafc",
   "metadata": {},
   "source": [
    "# 7. Обучение нейросети (MLP)\n",
    "- Используется MLP (многослойный перцептрон).\n",
    "- Dropout(0.3) помогает избежать переобучения.\n",
    "- Регуляризация L2 также помогает улучшить генерализацию модели."
   ]
  },
  {
   "cell_type": "code",
   "execution_count": 13,
   "id": "fc59489f-fbe7-4e37-8e16-b571f93cebb6",
   "metadata": {},
   "outputs": [
    {
     "name": "stdout",
     "output_type": "stream",
     "text": [
      "\n",
      "Aрхитектура модели с количеством параметров:\n"
     ]
    },
    {
     "data": {
      "text/html": [
       "<pre style=\"white-space:pre;overflow-x:auto;line-height:normal;font-family:Menlo,'DejaVu Sans Mono',consolas,'Courier New',monospace\"><span style=\"font-weight: bold\">Model: \"sequential_2\"</span>\n",
       "</pre>\n"
      ],
      "text/plain": [
       "\u001b[1mModel: \"sequential_2\"\u001b[0m\n"
      ]
     },
     "metadata": {},
     "output_type": "display_data"
    },
    {
     "data": {
      "text/html": [
       "<pre style=\"white-space:pre;overflow-x:auto;line-height:normal;font-family:Menlo,'DejaVu Sans Mono',consolas,'Courier New',monospace\">┏━━━━━━━━━━━━━━━━━━━━━━━━━━━━━━━━━━━━━━┳━━━━━━━━━━━━━━━━━━━━━━━━━━━━━┳━━━━━━━━━━━━━━━━━┓\n",
       "┃<span style=\"font-weight: bold\"> Layer (type)                         </span>┃<span style=\"font-weight: bold\"> Output Shape                </span>┃<span style=\"font-weight: bold\">         Param # </span>┃\n",
       "┡━━━━━━━━━━━━━━━━━━━━━━━━━━━━━━━━━━━━━━╇━━━━━━━━━━━━━━━━━━━━━━━━━━━━━╇━━━━━━━━━━━━━━━━━┩\n",
       "│ dense_8 (<span style=\"color: #0087ff; text-decoration-color: #0087ff\">Dense</span>)                      │ (<span style=\"color: #00d7ff; text-decoration-color: #00d7ff\">None</span>, <span style=\"color: #00af00; text-decoration-color: #00af00\">128</span>)                 │          <span style=\"color: #00af00; text-decoration-color: #00af00\">13,184</span> │\n",
       "├──────────────────────────────────────┼─────────────────────────────┼─────────────────┤\n",
       "│ dropout_4 (<span style=\"color: #0087ff; text-decoration-color: #0087ff\">Dropout</span>)                  │ (<span style=\"color: #00d7ff; text-decoration-color: #00d7ff\">None</span>, <span style=\"color: #00af00; text-decoration-color: #00af00\">128</span>)                 │               <span style=\"color: #00af00; text-decoration-color: #00af00\">0</span> │\n",
       "├──────────────────────────────────────┼─────────────────────────────┼─────────────────┤\n",
       "│ dense_9 (<span style=\"color: #0087ff; text-decoration-color: #0087ff\">Dense</span>)                      │ (<span style=\"color: #00d7ff; text-decoration-color: #00d7ff\">None</span>, <span style=\"color: #00af00; text-decoration-color: #00af00\">64</span>)                  │           <span style=\"color: #00af00; text-decoration-color: #00af00\">8,256</span> │\n",
       "├──────────────────────────────────────┼─────────────────────────────┼─────────────────┤\n",
       "│ dropout_5 (<span style=\"color: #0087ff; text-decoration-color: #0087ff\">Dropout</span>)                  │ (<span style=\"color: #00d7ff; text-decoration-color: #00d7ff\">None</span>, <span style=\"color: #00af00; text-decoration-color: #00af00\">64</span>)                  │               <span style=\"color: #00af00; text-decoration-color: #00af00\">0</span> │\n",
       "├──────────────────────────────────────┼─────────────────────────────┼─────────────────┤\n",
       "│ dense_10 (<span style=\"color: #0087ff; text-decoration-color: #0087ff\">Dense</span>)                     │ (<span style=\"color: #00d7ff; text-decoration-color: #00d7ff\">None</span>, <span style=\"color: #00af00; text-decoration-color: #00af00\">32</span>)                  │           <span style=\"color: #00af00; text-decoration-color: #00af00\">2,080</span> │\n",
       "├──────────────────────────────────────┼─────────────────────────────┼─────────────────┤\n",
       "│ dense_11 (<span style=\"color: #0087ff; text-decoration-color: #0087ff\">Dense</span>)                     │ (<span style=\"color: #00d7ff; text-decoration-color: #00d7ff\">None</span>, <span style=\"color: #00af00; text-decoration-color: #00af00\">1</span>)                   │              <span style=\"color: #00af00; text-decoration-color: #00af00\">33</span> │\n",
       "└──────────────────────────────────────┴─────────────────────────────┴─────────────────┘\n",
       "</pre>\n"
      ],
      "text/plain": [
       "┏━━━━━━━━━━━━━━━━━━━━━━━━━━━━━━━━━━━━━━┳━━━━━━━━━━━━━━━━━━━━━━━━━━━━━┳━━━━━━━━━━━━━━━━━┓\n",
       "┃\u001b[1m \u001b[0m\u001b[1mLayer (type)                        \u001b[0m\u001b[1m \u001b[0m┃\u001b[1m \u001b[0m\u001b[1mOutput Shape               \u001b[0m\u001b[1m \u001b[0m┃\u001b[1m \u001b[0m\u001b[1m        Param #\u001b[0m\u001b[1m \u001b[0m┃\n",
       "┡━━━━━━━━━━━━━━━━━━━━━━━━━━━━━━━━━━━━━━╇━━━━━━━━━━━━━━━━━━━━━━━━━━━━━╇━━━━━━━━━━━━━━━━━┩\n",
       "│ dense_8 (\u001b[38;5;33mDense\u001b[0m)                      │ (\u001b[38;5;45mNone\u001b[0m, \u001b[38;5;34m128\u001b[0m)                 │          \u001b[38;5;34m13,184\u001b[0m │\n",
       "├──────────────────────────────────────┼─────────────────────────────┼─────────────────┤\n",
       "│ dropout_4 (\u001b[38;5;33mDropout\u001b[0m)                  │ (\u001b[38;5;45mNone\u001b[0m, \u001b[38;5;34m128\u001b[0m)                 │               \u001b[38;5;34m0\u001b[0m │\n",
       "├──────────────────────────────────────┼─────────────────────────────┼─────────────────┤\n",
       "│ dense_9 (\u001b[38;5;33mDense\u001b[0m)                      │ (\u001b[38;5;45mNone\u001b[0m, \u001b[38;5;34m64\u001b[0m)                  │           \u001b[38;5;34m8,256\u001b[0m │\n",
       "├──────────────────────────────────────┼─────────────────────────────┼─────────────────┤\n",
       "│ dropout_5 (\u001b[38;5;33mDropout\u001b[0m)                  │ (\u001b[38;5;45mNone\u001b[0m, \u001b[38;5;34m64\u001b[0m)                  │               \u001b[38;5;34m0\u001b[0m │\n",
       "├──────────────────────────────────────┼─────────────────────────────┼─────────────────┤\n",
       "│ dense_10 (\u001b[38;5;33mDense\u001b[0m)                     │ (\u001b[38;5;45mNone\u001b[0m, \u001b[38;5;34m32\u001b[0m)                  │           \u001b[38;5;34m2,080\u001b[0m │\n",
       "├──────────────────────────────────────┼─────────────────────────────┼─────────────────┤\n",
       "│ dense_11 (\u001b[38;5;33mDense\u001b[0m)                     │ (\u001b[38;5;45mNone\u001b[0m, \u001b[38;5;34m1\u001b[0m)                   │              \u001b[38;5;34m33\u001b[0m │\n",
       "└──────────────────────────────────────┴─────────────────────────────┴─────────────────┘\n"
      ]
     },
     "metadata": {},
     "output_type": "display_data"
    },
    {
     "data": {
      "text/html": [
       "<pre style=\"white-space:pre;overflow-x:auto;line-height:normal;font-family:Menlo,'DejaVu Sans Mono',consolas,'Courier New',monospace\"><span style=\"font-weight: bold\"> Total params: </span><span style=\"color: #00af00; text-decoration-color: #00af00\">23,553</span> (92.00 KB)\n",
       "</pre>\n"
      ],
      "text/plain": [
       "\u001b[1m Total params: \u001b[0m\u001b[38;5;34m23,553\u001b[0m (92.00 KB)\n"
      ]
     },
     "metadata": {},
     "output_type": "display_data"
    },
    {
     "data": {
      "text/html": [
       "<pre style=\"white-space:pre;overflow-x:auto;line-height:normal;font-family:Menlo,'DejaVu Sans Mono',consolas,'Courier New',monospace\"><span style=\"font-weight: bold\"> Trainable params: </span><span style=\"color: #00af00; text-decoration-color: #00af00\">23,553</span> (92.00 KB)\n",
       "</pre>\n"
      ],
      "text/plain": [
       "\u001b[1m Trainable params: \u001b[0m\u001b[38;5;34m23,553\u001b[0m (92.00 KB)\n"
      ]
     },
     "metadata": {},
     "output_type": "display_data"
    },
    {
     "data": {
      "text/html": [
       "<pre style=\"white-space:pre;overflow-x:auto;line-height:normal;font-family:Menlo,'DejaVu Sans Mono',consolas,'Courier New',monospace\"><span style=\"font-weight: bold\"> Non-trainable params: </span><span style=\"color: #00af00; text-decoration-color: #00af00\">0</span> (0.00 B)\n",
       "</pre>\n"
      ],
      "text/plain": [
       "\u001b[1m Non-trainable params: \u001b[0m\u001b[38;5;34m0\u001b[0m (0.00 B)\n"
      ]
     },
     "metadata": {},
     "output_type": "display_data"
    }
   ],
   "source": [
    "# Definindo o modelo MLP com TensorFlow\n",
    "model = Sequential([\n",
    "    Dense(128, input_dim=X_train_res.shape[1], activation='relu', kernel_regularizer=tf.keras.regularizers.l2(0.01)),  # Regularização L2\n",
    "    Dropout(0.3),  # Aumento do Dropout\n",
    "    Dense(64, activation='relu', kernel_regularizer=tf.keras.regularizers.l2(0.01)),  # Regularização L2\n",
    "    Dropout(0.3),  # Aumento do Dropout\n",
    "    Dense(32, activation='relu', kernel_regularizer=tf.keras.regularizers.l2(0.01)),  # Regularização L2\n",
    "    Dense(1, activation='sigmoid')\n",
    "])\n",
    "\n",
    "# Compilando o modelo com uma taxa de aprendizado adaptativa\n",
    "optimizer = Adam(learning_rate=0.001)  # Taxa de aprendizado ajustada\n",
    "model.compile(optimizer=optimizer, loss='binary_crossentropy', metrics=['accuracy'])\n",
    "\n",
    "# Early stopping para evitar overfitting\n",
    "early_stopping = EarlyStopping(monitor='val_loss', patience=5, restore_best_weights=True, verbose=1)\n",
    "\n",
    "print(\"\\nAрхитектура модели с количеством параметров:\")\n",
    "model.summary()"
   ]
  },
  {
   "cell_type": "markdown",
   "id": "9f77bfb4-f005-4755-ad86-ce79e39fb093",
   "metadata": {},
   "source": [
    "# 8. Обучение модели\n",
    "Обучение модели с:\n",
    "Ранней остановкой для предотвращения переобучения\n",
    "Разделением на обучение и валидацию\n",
    "30 эпохами (но может остановиться раньше из-за EarlyStopping)"
   ]
  },
  {
   "cell_type": "code",
   "execution_count": 14,
   "id": "c499b544-18ed-4fc2-95e3-48be9a400483",
   "metadata": {},
   "outputs": [
    {
     "name": "stdout",
     "output_type": "stream",
     "text": [
      "Epoch 1/30\n",
      "23/23 - 3s - 150ms/step - accuracy: 0.8030 - loss: 2.7087 - val_accuracy: 0.9399 - val_loss: 2.2428\n",
      "Epoch 2/30\n",
      "23/23 - 0s - 11ms/step - accuracy: 0.9480 - loss: 1.9545 - val_accuracy: 0.9617 - val_loss: 1.6303\n",
      "Epoch 3/30\n",
      "23/23 - 0s - 10ms/step - accuracy: 0.9508 - loss: 1.4244 - val_accuracy: 0.9563 - val_loss: 1.1845\n",
      "Epoch 4/30\n",
      "23/23 - 0s - 10ms/step - accuracy: 0.9453 - loss: 1.0433 - val_accuracy: 0.9563 - val_loss: 0.8896\n",
      "Epoch 5/30\n",
      "23/23 - 0s - 10ms/step - accuracy: 0.9508 - loss: 0.7943 - val_accuracy: 0.9617 - val_loss: 0.6974\n",
      "Epoch 6/30\n",
      "23/23 - 0s - 10ms/step - accuracy: 0.9549 - loss: 0.6304 - val_accuracy: 0.9617 - val_loss: 0.5669\n",
      "Epoch 7/30\n",
      "23/23 - 0s - 10ms/step - accuracy: 0.9603 - loss: 0.5168 - val_accuracy: 0.9617 - val_loss: 0.4777\n",
      "Epoch 8/30\n",
      "23/23 - 0s - 10ms/step - accuracy: 0.9576 - loss: 0.4363 - val_accuracy: 0.9617 - val_loss: 0.4123\n",
      "Epoch 9/30\n",
      "23/23 - 0s - 10ms/step - accuracy: 0.9576 - loss: 0.3837 - val_accuracy: 0.9617 - val_loss: 0.3689\n",
      "Epoch 10/30\n",
      "23/23 - 0s - 11ms/step - accuracy: 0.9562 - loss: 0.3479 - val_accuracy: 0.9617 - val_loss: 0.3353\n",
      "Epoch 11/30\n",
      "23/23 - 0s - 10ms/step - accuracy: 0.9603 - loss: 0.3142 - val_accuracy: 0.9672 - val_loss: 0.3132\n",
      "Epoch 12/30\n",
      "23/23 - 0s - 11ms/step - accuracy: 0.9562 - loss: 0.2955 - val_accuracy: 0.9617 - val_loss: 0.2974\n",
      "Epoch 13/30\n",
      "23/23 - 0s - 10ms/step - accuracy: 0.9535 - loss: 0.2764 - val_accuracy: 0.9727 - val_loss: 0.2869\n",
      "Epoch 14/30\n",
      "23/23 - 0s - 11ms/step - accuracy: 0.9631 - loss: 0.2668 - val_accuracy: 0.9617 - val_loss: 0.2713\n",
      "Epoch 15/30\n",
      "23/23 - 0s - 10ms/step - accuracy: 0.9631 - loss: 0.2512 - val_accuracy: 0.9672 - val_loss: 0.2667\n",
      "Epoch 16/30\n",
      "23/23 - 0s - 11ms/step - accuracy: 0.9617 - loss: 0.2489 - val_accuracy: 0.9617 - val_loss: 0.2572\n",
      "Epoch 17/30\n",
      "23/23 - 0s - 10ms/step - accuracy: 0.9644 - loss: 0.2340 - val_accuracy: 0.9617 - val_loss: 0.2503\n",
      "Epoch 18/30\n",
      "23/23 - 0s - 10ms/step - accuracy: 0.9590 - loss: 0.2390 - val_accuracy: 0.9672 - val_loss: 0.2503\n",
      "Epoch 19/30\n",
      "23/23 - 0s - 12ms/step - accuracy: 0.9631 - loss: 0.2275 - val_accuracy: 0.9617 - val_loss: 0.2444\n",
      "Epoch 20/30\n",
      "23/23 - 0s - 10ms/step - accuracy: 0.9590 - loss: 0.2266 - val_accuracy: 0.9617 - val_loss: 0.2408\n",
      "Epoch 21/30\n",
      "23/23 - 0s - 10ms/step - accuracy: 0.9590 - loss: 0.2271 - val_accuracy: 0.9617 - val_loss: 0.2359\n",
      "Epoch 22/30\n",
      "23/23 - 0s - 10ms/step - accuracy: 0.9590 - loss: 0.2211 - val_accuracy: 0.9672 - val_loss: 0.2383\n",
      "Epoch 23/30\n",
      "23/23 - 0s - 10ms/step - accuracy: 0.9576 - loss: 0.2188 - val_accuracy: 0.9617 - val_loss: 0.2335\n",
      "Epoch 24/30\n",
      "23/23 - 0s - 10ms/step - accuracy: 0.9590 - loss: 0.2125 - val_accuracy: 0.9672 - val_loss: 0.2377\n",
      "Epoch 25/30\n",
      "23/23 - 0s - 9ms/step - accuracy: 0.9631 - loss: 0.2103 - val_accuracy: 0.9617 - val_loss: 0.2304\n",
      "Epoch 26/30\n",
      "23/23 - 0s - 8ms/step - accuracy: 0.9644 - loss: 0.2099 - val_accuracy: 0.9617 - val_loss: 0.2287\n",
      "Epoch 27/30\n",
      "23/23 - 0s - 9ms/step - accuracy: 0.9590 - loss: 0.2106 - val_accuracy: 0.9617 - val_loss: 0.2268\n",
      "Epoch 28/30\n",
      "23/23 - 0s - 8ms/step - accuracy: 0.9576 - loss: 0.2092 - val_accuracy: 0.9617 - val_loss: 0.2263\n",
      "Epoch 29/30\n",
      "23/23 - 0s - 8ms/step - accuracy: 0.9617 - loss: 0.2063 - val_accuracy: 0.9617 - val_loss: 0.2247\n",
      "Epoch 30/30\n",
      "23/23 - 0s - 8ms/step - accuracy: 0.9644 - loss: 0.2031 - val_accuracy: 0.9617 - val_loss: 0.2241\n",
      "Restoring model weights from the end of the best epoch: 30.\n",
      "WARNING:tensorflow:5 out of the last 17 calls to <function TensorFlowTrainer.make_predict_function.<locals>.one_step_on_data_distributed at 0x000001B554FDA7A0> triggered tf.function retracing. Tracing is expensive and the excessive number of tracings could be due to (1) creating @tf.function repeatedly in a loop, (2) passing tensors with different shapes, (3) passing Python objects instead of tensors. For (1), please define your @tf.function outside of the loop. For (2), @tf.function has reduce_retracing=True option that can avoid unnecessary retracing. For (3), please refer to https://www.tensorflow.org/guide/function#controlling_retracing and https://www.tensorflow.org/api_docs/python/tf/function for  more details.\n",
      "\u001b[1m8/8\u001b[0m \u001b[32m━━━━━━━━━━━━━━━━━━━━\u001b[0m\u001b[37m\u001b[0m \u001b[1m0s\u001b[0m 11ms/step\n"
     ]
    }
   ],
   "source": [
    "# Treinando o modelo\n",
    "history = model.fit(X_train_res, y_train_res, epochs=30, batch_size=32, validation_split=0.2, verbose=2, callbacks=[early_stopping])\n",
    "\n",
    "# Predição no conjunto de teste\n",
    "y_pred = model.predict(X_test)\n",
    "y_pred = (y_pred > 0.5).astype(int)"
   ]
  },
  {
   "cell_type": "code",
   "execution_count": 16,
   "id": "071b861e-dcb6-49a5-8df5-37e3eb3cfb21",
   "metadata": {},
   "outputs": [
    {
     "data": {
      "image/png": "[encoded data removed]",
      "text/plain": [
       "<Figure size 640x480 with 2 Axes>"
      ]
     },
     "metadata": {},
     "output_type": "display_data"
    }
   ],
   "source": [
    "# Matriz de confusão\n",
    "cm = confusion_matrix(y_test, y_pred)\n",
    "sns.heatmap(cm, annot=True, fmt=\"d\", cmap=\"Blues\", xticklabels=['Шум', 'Сигнал'], yticklabels=['Шум', 'Сигнал'])\n",
    "plt.xlabel('Предсказанный класс')\n",
    "plt.ylabel('Истинный класс')\n",
    "plt.title('Матрица ошибок - (Модель Многослойный персептрон) ')\n",
    "plt.show()"
   ]
  },
  {
   "cell_type": "code",
   "execution_count": 17,
   "id": "a562513d-385d-48a5-9be7-4729499818a7",
   "metadata": {},
   "outputs": [
    {
     "data": {
      "image/png": "[encoded data removed]",
      "text/plain": [
       "<Figure size 1200x400 with 2 Axes>"
      ]
     },
     "metadata": {},
     "output_type": "display_data"
    }
   ],
   "source": [
    "plt.figure(figsize=(12, 4))\n",
    "    \n",
    "plt.subplot(1, 2, 1)  \n",
    "plt.plot(history.history['accuracy'], label='Точность на обучении')  \n",
    "plt.plot(history.history['val_accuracy'], label='Точность на валидации')  \n",
    "plt.title('Точность по эпохам')  \n",
    "plt.xlabel('Эпоха')  \n",
    "plt.ylabel('Точность')  \n",
    "plt.legend()  \n",
    "  \n",
    "plt.subplot(1, 2, 2)  \n",
    "plt.plot(history.history['loss'], label='Потери на обучении')  \n",
    "plt.plot(history.history['val_loss'], label='Потери на валидации')  \n",
    "plt.title('Потери по эпохам')  \n",
    "plt.xlabel('Эпоха')  \n",
    "plt.ylabel('Потери')  \n",
    "plt.legend()  \n",
    "  \n",
    "plt.tight_layout()  \n",
    "plt.show() "
   ]
  }
 ],
 "metadata": {
  "kernelspec": {
   "display_name": "tf_env",
   "language": "python",
   "name": "tf_env"
  },
  "language_info": {
   "codemirror_mode": {
    "name": "ipython",
    "version": 3
   },
   "file_extension": ".py",
   "mimetype": "text/x-python",
   "name": "python",
   "nbconvert_exporter": "python",
   "pygments_lexer": "ipython3",
   "version": "3.12.0"
  }
 },
 "nbformat": 4,
 "nbformat_minor": 5
}
