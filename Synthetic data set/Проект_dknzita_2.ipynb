{
 "cells": [
  {
   "cell_type": "markdown",
   "id": "50fe3f64-e88f-4584-8c65-9789f212e42c",
   "metadata": {},
   "source": [
    "# Feedforward Neural Network (Multilayer Perceptron - MLP)\n",
    "Нейронная сеть с прямолинейным движением (многослойный перцептрон - MLP)"
   ]
  },
  {
   "cell_type": "markdown",
   "id": "25d78f76-0351-435b-889d-1416394fe9ad",
   "metadata": {},
   "source": [
    "# 1. Импорт библиотек\n",
    "Этот блок содержит все необходимые импорты библиотек для:\n",
    "\n",
    "- Работы с данными (numpy, pandas)\n",
    "- Машинного обучения (tensorflow, sklearn)\n",
    "- Обработки сигналов (pywt для вейвлет-преобразований)\n",
    "- Визуализации (seaborn, matplotlib)"
   ]
  },
  {
   "cell_type": "markdown",
   "id": "fdec2954-ee7b-4d73-a0b8-5437c6b82cf1",
   "metadata": {},
   "source": [
    "# 1. Импорт необходимых библиотек"
   ]
  },
  {
   "cell_type": "code",
   "execution_count": 4,
   "id": "b68081c6-f0e7-4b7e-9626-e9e4d6ac8755",
   "metadata": {},
   "outputs": [],
   "source": [
    "import pandas as pd\n",
    "import numpy as np\n",
    "import ast\n",
    "import tensorflow as tf\n",
    "from tensorflow.keras.models import Sequential\n",
    "from tensorflow.keras.layers import Dense, Dropout\n",
    "from tensorflow.keras.optimizers import Adam\n",
    "from tensorflow.keras.callbacks import EarlyStopping\n",
    "from sklearn.model_selection import train_test_split\n",
    "from sklearn.preprocessing import StandardScaler\n",
    "from sklearn.metrics import classification_report, confusion_matrix, roc_auc_score, roc_curve\n",
    "import seaborn as sns\n",
    "import matplotlib.pyplot as plt\n",
    "from imblearn.over_sampling import SMOTE\n",
    "import warnings\n",
    "warnings.filterwarnings(\"ignore\")\n"
   ]
  },
  {
   "cell_type": "markdown",
   "id": "d6d82352-e338-4cbb-a201-2c01e6e71895",
   "metadata": {},
   "source": [
    "# 2. Загрузка данных\n",
    "Читаем CSV-файл с данными.\n",
    "df.head(6) выводит первые 6 строк таблицы"
   ]
  },
  {
   "cell_type": "code",
   "execution_count": 6,
   "id": "c2e90da6-7d98-4bc3-97a3-3640d5b394de",
   "metadata": {},
   "outputs": [
    {
     "data": {
      "text/html": [
       "<div>\n",
       "<style scoped>\n",
       "    .dataframe tbody tr th:only-of-type {\n",
       "        vertical-align: middle;\n",
       "    }\n",
       "\n",
       "    .dataframe tbody tr th {\n",
       "        vertical-align: top;\n",
       "    }\n",
       "\n",
       "    .dataframe thead th {\n",
       "        text-align: right;\n",
       "    }\n",
       "</style>\n",
       "<table border=\"1\" class=\"dataframe\">\n",
       "  <thead>\n",
       "    <tr style=\"text-align: right;\">\n",
       "      <th></th>\n",
       "      <th>Clean_Signal</th>\n",
       "      <th>Noisy_Signal</th>\n",
       "      <th>Class</th>\n",
       "    </tr>\n",
       "  </thead>\n",
       "  <tbody>\n",
       "    <tr>\n",
       "      <th>0</th>\n",
       "      <td>-0.050548</td>\n",
       "      <td>0.120108</td>\n",
       "      <td>0</td>\n",
       "    </tr>\n",
       "    <tr>\n",
       "      <th>1</th>\n",
       "      <td>-0.022422</td>\n",
       "      <td>-0.007673</td>\n",
       "      <td>0</td>\n",
       "    </tr>\n",
       "    <tr>\n",
       "      <th>2</th>\n",
       "      <td>0.430269</td>\n",
       "      <td>1.163845</td>\n",
       "      <td>1</td>\n",
       "    </tr>\n",
       "    <tr>\n",
       "      <th>3</th>\n",
       "      <td>0.101930</td>\n",
       "      <td>0.100857</td>\n",
       "      <td>0</td>\n",
       "    </tr>\n",
       "    <tr>\n",
       "      <th>4</th>\n",
       "      <td>1.462921</td>\n",
       "      <td>2.911377</td>\n",
       "      <td>1</td>\n",
       "    </tr>\n",
       "    <tr>\n",
       "      <th>5</th>\n",
       "      <td>0.045052</td>\n",
       "      <td>0.629904</td>\n",
       "      <td>1</td>\n",
       "    </tr>\n",
       "  </tbody>\n",
       "</table>\n",
       "</div>"
      ],
      "text/plain": [
       "   Clean_Signal  Noisy_Signal  Class\n",
       "0     -0.050548      0.120108      0\n",
       "1     -0.022422     -0.007673      0\n",
       "2      0.430269      1.163845      1\n",
       "3      0.101930      0.100857      0\n",
       "4      1.462921      2.911377      1\n",
       "5      0.045052      0.629904      1"
      ]
     },
     "execution_count": 6,
     "metadata": {},
     "output_type": "execute_result"
    }
   ],
   "source": [
    "df = pd.read_csv('final_dataset.csv')  # Убедитесь, что путь к файлу указан правильно\n",
    "df.head(6)"
   ]
  },
  {
   "cell_type": "markdown",
   "id": "098af676-e614-4dad-8f0e-70831ef861aa",
   "metadata": {},
   "source": [
    "# 3. Функции для извлечения признаков из сигнала\n",
    "️ Функция для временных, частотных и вейвлет-признаков\n",
    "- Вычисляются основные статистические характеристики сигнала (среднее, медиана, энтропия, перекрестные нули и т. д.).\n",
    "- Метод Вельча (welch) используется для оценки спектра мощности сигнала.\n",
    "- Вычисляются такие показатели, как спектральная энергия, спектральный центроид и энтропия спектра\n",
    "- Вейвлет-преобразование (pywt.wavedec) анализирует сигналы на разных масштабах.\n",
    "Это позволяет выявить закономерности, которые трудно обнаружить в исходном сигнале."
   ]
  },
  {
   "cell_type": "code",
   "execution_count": 8,
   "id": "969a5432-5d70-4958-95da-1b58c232046e",
   "metadata": {},
   "outputs": [],
   "source": [
    "def extract_enhanced_features(signal, fs=1000):\n",
    "    \"\"\"Extração de características temporais, frequenciais e wavelet\"\"\"\n",
    "    features = {}\n",
    "\n",
    "    # 1. Características estatísticas básicas\n",
    "    features.update({\n",
    "        'mean': np.mean(signal),\n",
    "        'std': np.std(signal),\n",
    "        'max': np.max(signal),\n",
    "        'min': np.min(signal),\n",
    "        'median': np.median(signal),\n",
    "        'q25': np.percentile(signal, 25),\n",
    "        'q75': np.percentile(signal, 75),\n",
    "        'rms': np.sqrt(np.mean(signal**2)),\n",
    "        'zero_crossings': ((signal[:-1] * signal[1:]) < 0).sum(),\n",
    "        'entropy': np.sum(-signal * np.log(signal + 1e-10)),\n",
    "        'skewness': pd.Series(signal).skew(),\n",
    "        'kurtosis': pd.Series(signal).kurtosis()\n",
    "    })\n",
    "\n",
    "    # 2. Características frequenciais (método de Welch)\n",
    "    try:\n",
    "        f, Pxx = welch(signal, fs=fs, nperseg=min(len(signal), 256))\n",
    "        features.update({\n",
    "            'spectral_centroid': np.sum(f * Pxx) / np.sum(Pxx),\n",
    "            'spectral_bandwidth': np.sqrt(np.sum((f - features['spectral_centroid'])**2 * Pxx)),\n",
    "            'spectral_entropy': -np.sum(Pxx * np.log2(Pxx + 1e-12)),\n",
    "            'spectral_flatness': np.exp(np.mean(np.log(Pxx + 1e-10))) / np.mean(Pxx),\n",
    "            'spectral_energy': np.sum(Pxx),\n",
    "            'peak_frequency': f[np.argmax(Pxx)]\n",
    "        })\n",
    "    except:\n",
    "        features.update({k: 0 for k in ['spectral_centroid', 'spectral_bandwidth',\n",
    "                                      'spectral_entropy', 'spectral_flatness',\n",
    "                                      'spectral_energy', 'peak_frequency']})\n",
    "\n",
    "    # 3. Características wavelet\n",
    "    try:\n",
    "        coeffs = pywt.wavedec(signal, 'db4', level=3)\n",
    "        for i, c in enumerate(coeffs):\n",
    "            features.update({\n",
    "                f'wavelet_l{i}_mean': np.mean(c),\n",
    "                f'wavelet_l{i}_std': np.std(c),\n",
    "                f'wavelet_l{i}_energy': np.sum(c**2),\n",
    "                f'wavelet_l{i}_entropy': -np.sum(c**2 * np.log(c**2 + 1e-10))\n",
    "            })\n",
    "        total_energy = np.sum([np.sum(c**2) for c in coeffs])\n",
    "        features.update({\n",
    "            'wavelet_total_energy': total_energy,\n",
    "            'wavelet_energy_ratio': np.sum(coeffs[0]**2) / (total_energy + 1e-10)\n",
    "        })\n",
    "    except:\n",
    "        wavelet_features = {f'wavelet_l{i}_{j}': 0 for i in range(4)\n",
    "                          for j in ['mean', 'std', 'energy', 'entropy']}\n",
    "        wavelet_features.update({\n",
    "            'wavelet_total_energy': 0,\n",
    "            'wavelet_energy_ratio': 0\n",
    "        })\n",
    "        features.update(wavelet_features)\n",
    "\n",
    "    return features\n",
    "\n",
    "def extract_spectrogram_features(signal, fs=1000):\n",
    "    \"\"\"Extração de características da espectrograma do sinal\"\"\"\n",
    "    features = {}\n",
    "\n",
    "    try:\n",
    "        f, t, Sxx = spectrogram(signal, fs=fs, nperseg=256)\n",
    "\n",
    "        # Espectro centroids\n",
    "        spectral_centroid = np.sum(f[:, None] * Sxx, axis=0) / np.sum(Sxx, axis=0)\n",
    "        features.update({\n",
    "            'spec_centroid_mean': np.mean(spectral_centroid),\n",
    "            'spec_centroid_std': np.std(spectral_centroid),\n",
    "            'spec_centroid_max': np.max(spectral_centroid),\n",
    "            'spec_centroid_min': np.min(spectral_centroid)\n",
    "        })\n",
    "\n",
    "        # Largura espectral\n",
    "        spectral_bandwidth = np.sqrt(np.sum((f[:, None] - spectral_centroid)**2 * Sxx, axis=0) / np.sum(Sxx, axis=0))\n",
    "        features.update({\n",
    "            'spec_bandwidth_mean': np.mean(spectral_bandwidth),\n",
    "            'spec_bandwidth_std': np.std(spectral_bandwidth)\n",
    "        })\n",
    "\n",
    "        # Entropia espectral\n",
    "        spectral_entropy = -np.sum(Sxx * np.log(Sxx + 1e-10), axis=0)\n",
    "        features.update({\n",
    "            'spec_entropy_mean': np.mean(spectral_entropy),\n",
    "            'spec_entropy_std': np.std(spectral_entropy)\n",
    "        })\n",
    "\n",
    "        # Planície espectral\n",
    "        spectral_flatness = np.exp(np.mean(np.log(Sxx + 1e-10), axis=0)) / np.mean(Sxx, axis=0)\n",
    "        features.update({\n",
    "            'spec_flatness_mean': np.mean(spectral_flatness),\n",
    "            'spec_flatness_std': np.std(spectral_flatness)\n",
    "        })\n",
    "\n",
    "        # Energia espectral\n",
    "        spectral_energy = np.sum(Sxx, axis=0)\n",
    "        features.update({\n",
    "            'spec_energy_mean': np.mean(spectral_energy),\n",
    "            'spec_energy_std': np.std(spectral_energy),\n",
    "            'spec_total_energy': np.sum(Sxx),\n",
    "            'spec_peak_freq': f[np.argmax(np.mean(Sxx, axis=1))]  # Pico da frequência\n",
    "        })\n",
    "    except:\n",
    "        spec_features = {\n",
    "            'spec_centroid_mean': 0, 'spec_centroid_std': 0,\n",
    "            'spec_centroid_max': 0, 'spec_centroid_min': 0,\n",
    "            'spec_bandwidth_mean': 0, 'spec_bandwidth_std': 0,\n",
    "            'spec_entropy_mean': 0, 'spec_entropy_std': 0,\n",
    "            'spec_flatness_mean': 0, 'spec_flatness_std': 0,\n",
    "            'spec_energy_mean': 0, 'spec_energy_std': 0,\n",
    "            'spec_total_energy': 0, 'spec_peak_freq': 0\n",
    "        }\n",
    "        features.update(spec_features)\n",
    "\n",
    "    return features\n",
    "\n",
    "def extract_all_features(signal, fs=1000):\n",
    "    \"\"\"Extração de todas as características (temporais, frequenciais, espectrais e wavelet)\"\"\"\n",
    "    signal = ensure_signal_is_sequence(signal)  # Garantir que o sinal seja uma sequência de números\n",
    "    features = {}\n",
    "    features.update(extract_enhanced_features(signal, fs))\n",
    "    features.update(extract_spectrogram_features(signal, fs))\n",
    "    return features"
   ]
  },
  {
   "cell_type": "markdown",
   "id": "7b05d38e-d949-4c6c-a0c4-e365ade3c025",
   "metadata": {},
   "source": [
    "# 4. Комбинированная функция извлечения признаков\n",
    "Объединяет все признаки из предыдущих функций в один словарь."
   ]
  },
  {
   "cell_type": "code",
   "execution_count": 10,
   "id": "5c0ed99c-3ce0-4ec5-80c7-8ce7ce03b883",
   "metadata": {},
   "outputs": [],
   "source": [
    "\n",
    "def extract_all_features(signal, fs=1000):\n",
    "    \"\"\"Extração de todas as características (temporais, frequenciais, espectrais e wavelet)\"\"\"\n",
    "    signal = ensure_signal_is_sequence(signal)  # Garantir que o sinal seja uma sequência de números\n",
    "    features = {}\n",
    "    features.update(extract_enhanced_features(signal, fs))\n",
    "    features.update(extract_spectrogram_features(signal, fs))\n",
    "    return features\n",
    "\n",
    "# Função para garantir que o sinal seja uma sequência de números (array ou lista)\n",
    "def ensure_signal_is_sequence(signal):\n",
    "    if isinstance(signal, str):  # Se for uma string, tenta convertê-la\n",
    "        try:\n",
    "            signal = np.array(ast.literal_eval(signal))\n",
    "        except:\n",
    "            signal = np.zeros(100)  # Em caso de falha, cria um array de zeros\n",
    "    elif isinstance(signal, (float, int)):  # Se for um único valor, cria um array\n",
    "        signal = np.array([signal])\n",
    "    elif not isinstance(signal, np.ndarray):  # Se não for array, converte para array\n",
    "        signal = np.array(signal)\n",
    "    return signal"
   ]
  },
  {
   "cell_type": "markdown",
   "id": "8ca7a137-1ca6-4a51-9688-556207c1eb49",
   "metadata": {},
   "source": [
    "# 5. Подготовка данных\n",
    "- Извлекаются признаки для чистых (Clean_Signal) и зашумленных (Noisy_Signal) сигналов.\n",
    "- Объединяются в матрицу признаков X.\n",
    "- Целевая переменная y — это столбец Class.\n",
    "- Обрабатываются NaN и бесконечные значения."
   ]
  },
  {
   "cell_type": "code",
   "execution_count": 12,
   "id": "595458b2-0f09-42a4-aa16-06ed88fdabda",
   "metadata": {},
   "outputs": [
    {
     "name": "stdout",
     "output_type": "stream",
     "text": [
      "Извлечение характеристик из сигналов...\n"
     ]
    }
   ],
   "source": [
    "# Aplicando as funções para extração de características no DataFrame\n",
    "print(\"Извлечение характеристик из сигналов...\")\n",
    "clean_features = pd.DataFrame(df['Clean_Signal'].apply(lambda x: extract_all_features(x, fs=1000)).tolist()).add_prefix('clean_')\n",
    "noisy_features = pd.DataFrame(df['Noisy_Signal'].apply(lambda x: extract_all_features(x, fs=1000)).tolist()).add_prefix('noise_')\n",
    "\n",
    "# Combina todas as características\n",
    "X = pd.concat([clean_features, noisy_features,\n",
    "               df[['Clean_Signal', 'Noisy_Signal']]], axis=1)\n",
    "y = df['Class']\n",
    "\n",
    "# Tratar valores NaN/inf\n",
    "X = X.replace([np.inf, -np.inf], np.nan).fillna(0)\n",
    "\n"
   ]
  },
  {
   "cell_type": "markdown",
   "id": "2f689f3e-2e4b-4cb6-a2c3-d9562f88cc4a",
   "metadata": {},
   "source": [
    "# 6. Разделение данных и SMOTE\n",
    "Данные делятся на обучающую и тестовую выборки (80/20). SMOTE используется для устранения дисбаланса классов в обучающих данных."
   ]
  },
  {
   "cell_type": "code",
   "execution_count": 14,
   "id": "a54b631f-2900-4b33-89e5-d42cf20605e5",
   "metadata": {},
   "outputs": [],
   "source": [
    "# Dividir os dados em treino e teste\n",
    "X_train, X_test, y_train, y_test = train_test_split(X, y, test_size=0.2, random_state=42)\n",
    "\n",
    "# Aplicando SMOTE manualmente no treino\n",
    "smote = SMOTE(random_state=42)\n",
    "X_train_res, y_train_res = smote.fit_resample(X_train, y_train)"
   ]
  },
  {
   "cell_type": "markdown",
   "id": "8323164f-c8fc-4708-ac60-585bfd48bafc",
   "metadata": {},
   "source": [
    "# 7. Обучение нейросети (MLP)\n",
    "- Используется MLP (многослойный перцептрон).\n",
    "- Dropout(0.3) помогает избежать переобучения.\n",
    "- Регуляризация L2 также помогает улучшить генерализацию модели."
   ]
  },
  {
   "cell_type": "code",
   "execution_count": 16,
   "id": "fc59489f-fbe7-4e37-8e16-b571f93cebb6",
   "metadata": {},
   "outputs": [
    {
     "name": "stdout",
     "output_type": "stream",
     "text": [
      "\n",
      "Aрхитектура модели с количеством параметров:\n"
     ]
    },
    {
     "data": {
      "text/html": [
       "<pre style=\"white-space:pre;overflow-x:auto;line-height:normal;font-family:Menlo,'DejaVu Sans Mono',consolas,'Courier New',monospace\"><span style=\"font-weight: bold\">Model: \"sequential\"</span>\n",
       "</pre>\n"
      ],
      "text/plain": [
       "\u001b[1mModel: \"sequential\"\u001b[0m\n"
      ]
     },
     "metadata": {},
     "output_type": "display_data"
    },
    {
     "data": {
      "text/html": [
       "<pre style=\"white-space:pre;overflow-x:auto;line-height:normal;font-family:Menlo,'DejaVu Sans Mono',consolas,'Courier New',monospace\">┏━━━━━━━━━━━━━━━━━━━━━━━━━━━━━━━━━━━━━━┳━━━━━━━━━━━━━━━━━━━━━━━━━━━━━┳━━━━━━━━━━━━━━━━━┓\n",
       "┃<span style=\"font-weight: bold\"> Layer (type)                         </span>┃<span style=\"font-weight: bold\"> Output Shape                </span>┃<span style=\"font-weight: bold\">         Param # </span>┃\n",
       "┡━━━━━━━━━━━━━━━━━━━━━━━━━━━━━━━━━━━━━━╇━━━━━━━━━━━━━━━━━━━━━━━━━━━━━╇━━━━━━━━━━━━━━━━━┩\n",
       "│ dense (<span style=\"color: #0087ff; text-decoration-color: #0087ff\">Dense</span>)                        │ (<span style=\"color: #00d7ff; text-decoration-color: #00d7ff\">None</span>, <span style=\"color: #00af00; text-decoration-color: #00af00\">128</span>)                 │          <span style=\"color: #00af00; text-decoration-color: #00af00\">13,184</span> │\n",
       "├──────────────────────────────────────┼─────────────────────────────┼─────────────────┤\n",
       "│ dropout (<span style=\"color: #0087ff; text-decoration-color: #0087ff\">Dropout</span>)                    │ (<span style=\"color: #00d7ff; text-decoration-color: #00d7ff\">None</span>, <span style=\"color: #00af00; text-decoration-color: #00af00\">128</span>)                 │               <span style=\"color: #00af00; text-decoration-color: #00af00\">0</span> │\n",
       "├──────────────────────────────────────┼─────────────────────────────┼─────────────────┤\n",
       "│ dense_1 (<span style=\"color: #0087ff; text-decoration-color: #0087ff\">Dense</span>)                      │ (<span style=\"color: #00d7ff; text-decoration-color: #00d7ff\">None</span>, <span style=\"color: #00af00; text-decoration-color: #00af00\">64</span>)                  │           <span style=\"color: #00af00; text-decoration-color: #00af00\">8,256</span> │\n",
       "├──────────────────────────────────────┼─────────────────────────────┼─────────────────┤\n",
       "│ dropout_1 (<span style=\"color: #0087ff; text-decoration-color: #0087ff\">Dropout</span>)                  │ (<span style=\"color: #00d7ff; text-decoration-color: #00d7ff\">None</span>, <span style=\"color: #00af00; text-decoration-color: #00af00\">64</span>)                  │               <span style=\"color: #00af00; text-decoration-color: #00af00\">0</span> │\n",
       "├──────────────────────────────────────┼─────────────────────────────┼─────────────────┤\n",
       "│ dense_2 (<span style=\"color: #0087ff; text-decoration-color: #0087ff\">Dense</span>)                      │ (<span style=\"color: #00d7ff; text-decoration-color: #00d7ff\">None</span>, <span style=\"color: #00af00; text-decoration-color: #00af00\">32</span>)                  │           <span style=\"color: #00af00; text-decoration-color: #00af00\">2,080</span> │\n",
       "├──────────────────────────────────────┼─────────────────────────────┼─────────────────┤\n",
       "│ dense_3 (<span style=\"color: #0087ff; text-decoration-color: #0087ff\">Dense</span>)                      │ (<span style=\"color: #00d7ff; text-decoration-color: #00d7ff\">None</span>, <span style=\"color: #00af00; text-decoration-color: #00af00\">1</span>)                   │              <span style=\"color: #00af00; text-decoration-color: #00af00\">33</span> │\n",
       "└──────────────────────────────────────┴─────────────────────────────┴─────────────────┘\n",
       "</pre>\n"
      ],
      "text/plain": [
       "┏━━━━━━━━━━━━━━━━━━━━━━━━━━━━━━━━━━━━━━┳━━━━━━━━━━━━━━━━━━━━━━━━━━━━━┳━━━━━━━━━━━━━━━━━┓\n",
       "┃\u001b[1m \u001b[0m\u001b[1mLayer (type)                        \u001b[0m\u001b[1m \u001b[0m┃\u001b[1m \u001b[0m\u001b[1mOutput Shape               \u001b[0m\u001b[1m \u001b[0m┃\u001b[1m \u001b[0m\u001b[1m        Param #\u001b[0m\u001b[1m \u001b[0m┃\n",
       "┡━━━━━━━━━━━━━━━━━━━━━━━━━━━━━━━━━━━━━━╇━━━━━━━━━━━━━━━━━━━━━━━━━━━━━╇━━━━━━━━━━━━━━━━━┩\n",
       "│ dense (\u001b[38;5;33mDense\u001b[0m)                        │ (\u001b[38;5;45mNone\u001b[0m, \u001b[38;5;34m128\u001b[0m)                 │          \u001b[38;5;34m13,184\u001b[0m │\n",
       "├──────────────────────────────────────┼─────────────────────────────┼─────────────────┤\n",
       "│ dropout (\u001b[38;5;33mDropout\u001b[0m)                    │ (\u001b[38;5;45mNone\u001b[0m, \u001b[38;5;34m128\u001b[0m)                 │               \u001b[38;5;34m0\u001b[0m │\n",
       "├──────────────────────────────────────┼─────────────────────────────┼─────────────────┤\n",
       "│ dense_1 (\u001b[38;5;33mDense\u001b[0m)                      │ (\u001b[38;5;45mNone\u001b[0m, \u001b[38;5;34m64\u001b[0m)                  │           \u001b[38;5;34m8,256\u001b[0m │\n",
       "├──────────────────────────────────────┼─────────────────────────────┼─────────────────┤\n",
       "│ dropout_1 (\u001b[38;5;33mDropout\u001b[0m)                  │ (\u001b[38;5;45mNone\u001b[0m, \u001b[38;5;34m64\u001b[0m)                  │               \u001b[38;5;34m0\u001b[0m │\n",
       "├──────────────────────────────────────┼─────────────────────────────┼─────────────────┤\n",
       "│ dense_2 (\u001b[38;5;33mDense\u001b[0m)                      │ (\u001b[38;5;45mNone\u001b[0m, \u001b[38;5;34m32\u001b[0m)                  │           \u001b[38;5;34m2,080\u001b[0m │\n",
       "├──────────────────────────────────────┼─────────────────────────────┼─────────────────┤\n",
       "│ dense_3 (\u001b[38;5;33mDense\u001b[0m)                      │ (\u001b[38;5;45mNone\u001b[0m, \u001b[38;5;34m1\u001b[0m)                   │              \u001b[38;5;34m33\u001b[0m │\n",
       "└──────────────────────────────────────┴─────────────────────────────┴─────────────────┘\n"
      ]
     },
     "metadata": {},
     "output_type": "display_data"
    },
    {
     "data": {
      "text/html": [
       "<pre style=\"white-space:pre;overflow-x:auto;line-height:normal;font-family:Menlo,'DejaVu Sans Mono',consolas,'Courier New',monospace\"><span style=\"font-weight: bold\"> Total params: </span><span style=\"color: #00af00; text-decoration-color: #00af00\">23,553</span> (92.00 KB)\n",
       "</pre>\n"
      ],
      "text/plain": [
       "\u001b[1m Total params: \u001b[0m\u001b[38;5;34m23,553\u001b[0m (92.00 KB)\n"
      ]
     },
     "metadata": {},
     "output_type": "display_data"
    },
    {
     "data": {
      "text/html": [
       "<pre style=\"white-space:pre;overflow-x:auto;line-height:normal;font-family:Menlo,'DejaVu Sans Mono',consolas,'Courier New',monospace\"><span style=\"font-weight: bold\"> Trainable params: </span><span style=\"color: #00af00; text-decoration-color: #00af00\">23,553</span> (92.00 KB)\n",
       "</pre>\n"
      ],
      "text/plain": [
       "\u001b[1m Trainable params: \u001b[0m\u001b[38;5;34m23,553\u001b[0m (92.00 KB)\n"
      ]
     },
     "metadata": {},
     "output_type": "display_data"
    },
    {
     "data": {
      "text/html": [
       "<pre style=\"white-space:pre;overflow-x:auto;line-height:normal;font-family:Menlo,'DejaVu Sans Mono',consolas,'Courier New',monospace\"><span style=\"font-weight: bold\"> Non-trainable params: </span><span style=\"color: #00af00; text-decoration-color: #00af00\">0</span> (0.00 B)\n",
       "</pre>\n"
      ],
      "text/plain": [
       "\u001b[1m Non-trainable params: \u001b[0m\u001b[38;5;34m0\u001b[0m (0.00 B)\n"
      ]
     },
     "metadata": {},
     "output_type": "display_data"
    }
   ],
   "source": [
    "# Definindo o modelo MLP com TensorFlow\n",
    "model = Sequential([\n",
    "    Dense(128, input_dim=X_train_res.shape[1], activation='relu', kernel_regularizer=tf.keras.regularizers.l2(0.01)),  # Regularização L2\n",
    "    Dropout(0.3),  # Aumento do Dropout\n",
    "    Dense(64, activation='relu', kernel_regularizer=tf.keras.regularizers.l2(0.01)),  # Regularização L2\n",
    "    Dropout(0.3),  # Aumento do Dropout\n",
    "    Dense(32, activation='relu', kernel_regularizer=tf.keras.regularizers.l2(0.01)),  # Regularização L2\n",
    "    Dense(1, activation='sigmoid')\n",
    "])\n",
    "\n",
    "# Compilando o modelo com uma taxa de aprendizado adaptativa\n",
    "optimizer = Adam(learning_rate=0.001)  # Taxa de aprendizado ajustada\n",
    "model.compile(optimizer=optimizer, loss='binary_crossentropy', metrics=['accuracy'])\n",
    "\n",
    "# Early stopping para evitar overfitting\n",
    "early_stopping = EarlyStopping(monitor='val_loss', patience=5, restore_best_weights=True, verbose=1)\n",
    "\n",
    "print(\"\\nAрхитектура модели с количеством параметров:\")\n",
    "model.summary()"
   ]
  },
  {
   "cell_type": "markdown",
   "id": "9f77bfb4-f005-4755-ad86-ce79e39fb093",
   "metadata": {},
   "source": [
    "# 8. Обучение модели\n",
    "Обучение модели с:\n",
    "Ранней остановкой для предотвращения переобучения\n",
    "Разделением на обучение и валидацию\n",
    "30 эпохами (но может остановиться раньше из-за EarlyStopping)"
   ]
  },
  {
   "cell_type": "code",
   "execution_count": 18,
   "id": "c499b544-18ed-4fc2-95e3-48be9a400483",
   "metadata": {},
   "outputs": [
    {
     "name": "stdout",
     "output_type": "stream",
     "text": [
      "Epoch 1/30\n",
      "23/23 - 2s - 85ms/step - accuracy: 0.7415 - loss: 2.6910 - val_accuracy: 0.8689 - val_loss: 2.2230\n",
      "Epoch 2/30\n",
      "23/23 - 0s - 7ms/step - accuracy: 0.9207 - loss: 1.9514 - val_accuracy: 0.9508 - val_loss: 1.6338\n",
      "Epoch 3/30\n",
      "23/23 - 0s - 6ms/step - accuracy: 0.9617 - loss: 1.4401 - val_accuracy: 0.9617 - val_loss: 1.2037\n",
      "Epoch 4/30\n",
      "23/23 - 0s - 6ms/step - accuracy: 0.9535 - loss: 1.0666 - val_accuracy: 0.9617 - val_loss: 0.8936\n",
      "Epoch 5/30\n",
      "23/23 - 0s - 6ms/step - accuracy: 0.9508 - loss: 0.8041 - val_accuracy: 0.9617 - val_loss: 0.6925\n",
      "Epoch 6/30\n",
      "23/23 - 0s - 6ms/step - accuracy: 0.9508 - loss: 0.6266 - val_accuracy: 0.9617 - val_loss: 0.5617\n",
      "Epoch 7/30\n",
      "23/23 - 0s - 6ms/step - accuracy: 0.9590 - loss: 0.5140 - val_accuracy: 0.9617 - val_loss: 0.4744\n",
      "Epoch 8/30\n",
      "23/23 - 0s - 6ms/step - accuracy: 0.9603 - loss: 0.4365 - val_accuracy: 0.9617 - val_loss: 0.4088\n",
      "Epoch 9/30\n",
      "23/23 - 0s - 6ms/step - accuracy: 0.9658 - loss: 0.3785 - val_accuracy: 0.9617 - val_loss: 0.3654\n",
      "Epoch 10/30\n",
      "23/23 - 0s - 6ms/step - accuracy: 0.9603 - loss: 0.3380 - val_accuracy: 0.9672 - val_loss: 0.3364\n",
      "Epoch 11/30\n",
      "23/23 - 0s - 5ms/step - accuracy: 0.9631 - loss: 0.3108 - val_accuracy: 0.9672 - val_loss: 0.3120\n",
      "Epoch 12/30\n",
      "23/23 - 0s - 6ms/step - accuracy: 0.9617 - loss: 0.2938 - val_accuracy: 0.9617 - val_loss: 0.2935\n",
      "Epoch 13/30\n",
      "23/23 - 0s - 6ms/step - accuracy: 0.9576 - loss: 0.2803 - val_accuracy: 0.9617 - val_loss: 0.2801\n",
      "Epoch 14/30\n",
      "23/23 - 0s - 6ms/step - accuracy: 0.9549 - loss: 0.2604 - val_accuracy: 0.9617 - val_loss: 0.2701\n",
      "Epoch 15/30\n",
      "23/23 - 0s - 6ms/step - accuracy: 0.9590 - loss: 0.2541 - val_accuracy: 0.9617 - val_loss: 0.2606\n",
      "Epoch 16/30\n",
      "23/23 - 0s - 6ms/step - accuracy: 0.9617 - loss: 0.2447 - val_accuracy: 0.9617 - val_loss: 0.2540\n",
      "Epoch 17/30\n",
      "23/23 - 0s - 6ms/step - accuracy: 0.9590 - loss: 0.2420 - val_accuracy: 0.9617 - val_loss: 0.2502\n",
      "Epoch 18/30\n",
      "23/23 - 0s - 6ms/step - accuracy: 0.9617 - loss: 0.2392 - val_accuracy: 0.9617 - val_loss: 0.2443\n",
      "Epoch 19/30\n",
      "23/23 - 0s - 6ms/step - accuracy: 0.9576 - loss: 0.2343 - val_accuracy: 0.9617 - val_loss: 0.2427\n",
      "Epoch 20/30\n",
      "23/23 - 0s - 6ms/step - accuracy: 0.9603 - loss: 0.2226 - val_accuracy: 0.9672 - val_loss: 0.2395\n",
      "Epoch 21/30\n",
      "23/23 - 0s - 5ms/step - accuracy: 0.9631 - loss: 0.2239 - val_accuracy: 0.9617 - val_loss: 0.2396\n",
      "Epoch 22/30\n",
      "23/23 - 0s - 6ms/step - accuracy: 0.9576 - loss: 0.2241 - val_accuracy: 0.9617 - val_loss: 0.2348\n",
      "Epoch 23/30\n",
      "23/23 - 0s - 5ms/step - accuracy: 0.9535 - loss: 0.2190 - val_accuracy: 0.9672 - val_loss: 0.2325\n",
      "Epoch 24/30\n",
      "23/23 - 0s - 6ms/step - accuracy: 0.9590 - loss: 0.2143 - val_accuracy: 0.9617 - val_loss: 0.2285\n",
      "Epoch 25/30\n",
      "23/23 - 0s - 6ms/step - accuracy: 0.9590 - loss: 0.2186 - val_accuracy: 0.9617 - val_loss: 0.2283\n",
      "Epoch 26/30\n",
      "23/23 - 0s - 6ms/step - accuracy: 0.9617 - loss: 0.2105 - val_accuracy: 0.9617 - val_loss: 0.2267\n",
      "Epoch 27/30\n",
      "23/23 - 0s - 6ms/step - accuracy: 0.9603 - loss: 0.2109 - val_accuracy: 0.9672 - val_loss: 0.2258\n",
      "Epoch 28/30\n",
      "23/23 - 0s - 7ms/step - accuracy: 0.9576 - loss: 0.2068 - val_accuracy: 0.9617 - val_loss: 0.2256\n",
      "Epoch 29/30\n",
      "23/23 - 0s - 7ms/step - accuracy: 0.9658 - loss: 0.2048 - val_accuracy: 0.9672 - val_loss: 0.2255\n",
      "Epoch 30/30\n",
      "23/23 - 0s - 6ms/step - accuracy: 0.9672 - loss: 0.2037 - val_accuracy: 0.9617 - val_loss: 0.2238\n",
      "Restoring model weights from the end of the best epoch: 30.\n",
      "\u001b[1m8/8\u001b[0m \u001b[32m━━━━━━━━━━━━━━━━━━━━\u001b[0m\u001b[37m\u001b[0m \u001b[1m0s\u001b[0m 8ms/step \n"
     ]
    }
   ],
   "source": [
    "# Treinando o modelo\n",
    "history = model.fit(X_train_res, y_train_res, epochs=30, batch_size=32, validation_split=0.2, verbose=2, callbacks=[early_stopping])\n",
    "\n",
    "# Predição no conjunto de teste\n",
    "y_pred = model.predict(X_test)\n",
    "y_pred = (y_pred > 0.5).astype(int)"
   ]
  },
  {
   "cell_type": "code",
   "execution_count": 19,
   "id": "071b861e-dcb6-49a5-8df5-37e3eb3cfb21",
   "metadata": {},
   "outputs": [
    {
     "name": "stdout",
     "output_type": "stream",
     "text": [
      "\n",
      "Отчёт о классификации:\n",
      "              precision    recall  f1-score   support\n",
      "\n",
      "           0       0.96      1.00      0.98       113\n",
      "           1       1.00      0.96      0.98       115\n",
      "\n",
      "    accuracy                           0.98       228\n",
      "   macro avg       0.98      0.98      0.98       228\n",
      "weighted avg       0.98      0.98      0.98       228\n",
      "\n"
     ]
    },
    {
     "data": {
      "image/png": "[encoded data removed]",
      "text/plain": [
       "<Figure size 640x480 with 2 Axes>"
      ]
     },
     "metadata": {},
     "output_type": "display_data"
    }
   ],
   "source": [
    "# Отчёт о классификации\n",
    "print(\"\\nОтчёт о классификации:\")\n",
    "print(classification_report(y_test, y_pred))\n",
    "\n",
    "# Matriz de confusão\n",
    "cm = confusion_matrix(y_test, y_pred)\n",
    "sns.heatmap(cm, annot=True, fmt=\"d\", cmap=\"Blues\", xticklabels=['Шум', 'Сигнал'], yticklabels=['Шум', 'Сигнал'])\n",
    "plt.xlabel('Предсказанный класс')\n",
    "plt.ylabel('Истинный класс')\n",
    "plt.title('Матрица ошибок - (Модель Многослойный персептрон) ')\n",
    "plt.show()"
   ]
  },
  {
   "cell_type": "code",
   "execution_count": 20,
   "id": "a562513d-385d-48a5-9be7-4729499818a7",
   "metadata": {},
   "outputs": [
    {
     "data": {
      "image/png": "[encoded data removed]",
      "text/plain": [
       "<Figure size 1200x400 with 2 Axes>"
      ]
     },
     "metadata": {},
     "output_type": "display_data"
    }
   ],
   "source": [
    "plt.figure(figsize=(12, 4))\n",
    "    \n",
    "plt.subplot(1, 2, 1)  \n",
    "plt.plot(history.history['accuracy'], label='Точность на обучении')  \n",
    "plt.plot(history.history['val_accuracy'], label='Точность на валидации')  \n",
    "plt.title('Точность по эпохам')  \n",
    "plt.xlabel('Эпоха')  \n",
    "plt.ylabel('Точность')  \n",
    "plt.legend()  \n",
    "  \n",
    "plt.subplot(1, 2, 2)  \n",
    "plt.plot(history.history['loss'], label='Потери на обучении')  \n",
    "plt.plot(history.history['val_loss'], label='Потери на валидации')  \n",
    "plt.title('Потери по эпохам')  \n",
    "plt.xlabel('Эпоха')  \n",
    "plt.ylabel('Потери')  \n",
    "plt.legend()  \n",
    "  \n",
    "plt.tight_layout()  \n",
    "plt.show() "
   ]
  }
 ],
 "metadata": {
  "kernelspec": {
   "display_name": "tf_env",
   "language": "python",
   "name": "tf_env"
  },
  "language_info": {
   "codemirror_mode": {
    "name": "ipython",
    "version": 3
   },
   "file_extension": ".py",
   "mimetype": "text/x-python",
   "name": "python",
   "nbconvert_exporter": "python",
   "pygments_lexer": "ipython3",
   "version": "3.12.0"
  }
 },
 "nbformat": 4,
 "nbformat_minor": 5
}
